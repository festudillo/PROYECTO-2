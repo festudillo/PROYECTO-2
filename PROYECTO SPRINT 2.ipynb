{
 "cells": [
  {
   "cell_type": "markdown",
   "metadata": {},
   "source": [
    "# ¡Hola!  \n",
    "\n",
    "Mi nombre es Maria Efimova, soy code reviewer de Practicum y voy a revisar el proyecto que acabas de desarrollar.\n",
    "\n",
    "Cuando vea un error la primera vez, lo señalaré. Deberás encontrarlo y arreglarlo. La intención es que te prepares para un espacio real de trabajo. En un trabajo, el líder de tu equipo hará lo mismo. Si no puedes solucionar el error, te daré más información en la próxima ocasión. \n",
    "\n",
    "Encontrarás mis comentarios más abajo - **por favor, no los muevas, no los modifiques ni los borres**.\n",
    "\n",
    "¿Cómo lo voy a hacer? Voy a leer detenidamente cada una de las implementaciones que has llevado a cabo para cumplir con lo solicitado. Verás los comentarios de esta forma:\n",
    "\n",
    "<div class=\"alert alert-block alert-success\">\n",
    "<b>Comentario del revisor</b> <a class=\"tocSkip\"></a>\n",
    "    \n",
    "Si todo está perfecto.\n",
    "</div>\n",
    "\n",
    "\n",
    "<div class=\"alert alert-block alert-warning\">\n",
    "<b>Comentario del revisor</b> <a class=\"tocSkip\"></a>\n",
    "    \n",
    "Si tu código está bien pero se puede mejorar o hay algún detalle que le hace falta.\n",
    "</div>\n",
    "\n",
    "\n",
    "<div class=\"alert alert-block alert-danger\">\n",
    "    \n",
    "<b>Comentario del revisor</b> <a class=\"tocSkip\"></a>\n",
    "    \n",
    "    \n",
    "Si de pronto hace falta algo o existe algún problema con tu código o conclusiones.\n",
    "</div>\n",
    "\n",
    "\n",
    "Puedes responderme de esta forma: \n",
    "\n",
    "<div class=\"alert alert-block alert-info\">\n",
    "<b>Respuesta del estudiante</b> <a class=\"tocSkip\"></a>\n",
    "</div>\n",
    "\n",
    "¡Empecemos!"
   ]
  },
  {
   "cell_type": "markdown",
   "metadata": {},
   "source": [
    "# Análisis del riesgo de incumplimiento de los prestatarios\n",
    "\n",
    "Tu proyecto consiste en preparar un informe para la división de préstamos de un banco. Deberás averiguar si el estado civil y el número de hijos de un cliente tienen un impacto en el incumplimiento de pago de un préstamo. El banco ya tiene algunos datos sobre la solvencia crediticia de los clientes.\n",
    "\n",
    "Tu informe se tendrá en cuenta al crear una **puntuación de crédito** para un cliente potencial. La **puntuación de crédito** se utiliza para evaluar la capacidad de un prestatario potencial para pagar su préstamo.\n",
    "\n",
    "[En este cuaderno se te brindan pistas, breves instrucciones y sugerencias para pensar. No los ignores, ya que están diseñados para equiparte con la estructura del proyecto y te ayudarán a analizar lo que estás haciendo en un nivel más profundo. Antes de enviar tu proyecto, asegúrate de eliminar todas las sugerencias y descripciones que se te hayan proporcionado. Más bien, haz que este informe parezca como si se lo estuvieras enviando a tus compañeros de equipo para demostrar tus hallazgos: ¡no deben saber que recibiste ayuda externa de nuestra parte! Para ayudarte, hemos colocado las pistas que debes eliminar entre corchetes.]\n",
    "\n",
    "[Antes de sumergirte en el análisis de tus datos, explica los propósitos del proyecto y las hipótesis que vas a evaluar.]"
   ]
  },
  {
   "cell_type": "markdown",
   "metadata": {},
   "source": [
    "## Abre el archivo de datos y mira la información general. \n",
    "\n",
    "[Empieza con la importación de las librerías y la carga de los datos. Es posible que te des cuenta de que necesitas librerías adicionales a medida que avanzas, lo cual es totalmente normal, solo asegúrate de actualizar esta sección cuando lo hagas.]"
   ]
  },
  {
   "cell_type": "code",
   "execution_count": 2,
   "metadata": {},
   "outputs": [],
   "source": [
    "# Cargar todas las librerías\n",
    "import pandas as pd \n",
    "\n",
    "# Carga los datos\n",
    "dataset = pd.read_csv('/datasets/credit_scoring_eng.csv')"
   ]
  },
  {
   "cell_type": "markdown",
   "metadata": {},
   "source": [
    "## Ejercicio 1. Exploración de datos\n",
    "\n",
    "**Descripción de los datos**\n",
    "- `children` - el número de hijos en la familia\n",
    "- `days_employed` - experiencia laboral en días\n",
    "- `dob_years` - la edad del cliente en años\n",
    "- `education` - la educación del cliente\n",
    "- `education_id` - identificador de educación\n",
    "- `family_status` - estado civil\n",
    "- `family_status_id` - identificador de estado civil\n",
    "- `gender` - género del cliente\n",
    "- `income_type` - tipo de empleo\n",
    "- `debt` - ¿había alguna deuda en el pago de un préstamo?\n",
    "- `total_income` - ingreso mensual\n",
    "- `purpose` - el propósito de obtener un préstamo\n",
    "\n",
    "[Ahora vamos a explorar nuestros datos. Querrás ver cuántas columnas y filas hay, observa algunas filas para identificar posibles problemas con los datos.]"
   ]
  },
  {
   "cell_type": "code",
   "execution_count": 3,
   "metadata": {},
   "outputs": [
    {
     "data": {
      "text/plain": [
       "(21525, 12)"
      ]
     },
     "execution_count": 3,
     "metadata": {},
     "output_type": "execute_result"
    }
   ],
   "source": [
    "# Vamos a ver cuántas filas y columnas tiene nuestro conjunto de datos\n",
    "dataset.shape\n"
   ]
  },
  {
   "cell_type": "code",
   "execution_count": 4,
   "metadata": {
    "scrolled": true
   },
   "outputs": [
    {
     "data": {
      "text/html": [
       "<div>\n",
       "<style scoped>\n",
       "    .dataframe tbody tr th:only-of-type {\n",
       "        vertical-align: middle;\n",
       "    }\n",
       "\n",
       "    .dataframe tbody tr th {\n",
       "        vertical-align: top;\n",
       "    }\n",
       "\n",
       "    .dataframe thead th {\n",
       "        text-align: right;\n",
       "    }\n",
       "</style>\n",
       "<table border=\"1\" class=\"dataframe\">\n",
       "  <thead>\n",
       "    <tr style=\"text-align: right;\">\n",
       "      <th></th>\n",
       "      <th>children</th>\n",
       "      <th>days_employed</th>\n",
       "      <th>dob_years</th>\n",
       "      <th>education</th>\n",
       "      <th>education_id</th>\n",
       "      <th>family_status</th>\n",
       "      <th>family_status_id</th>\n",
       "      <th>gender</th>\n",
       "      <th>income_type</th>\n",
       "      <th>debt</th>\n",
       "      <th>total_income</th>\n",
       "      <th>purpose</th>\n",
       "    </tr>\n",
       "  </thead>\n",
       "  <tbody>\n",
       "    <tr>\n",
       "      <th>0</th>\n",
       "      <td>1</td>\n",
       "      <td>-8437.673028</td>\n",
       "      <td>42</td>\n",
       "      <td>bachelor's degree</td>\n",
       "      <td>0</td>\n",
       "      <td>married</td>\n",
       "      <td>0</td>\n",
       "      <td>F</td>\n",
       "      <td>employee</td>\n",
       "      <td>0</td>\n",
       "      <td>40620.102</td>\n",
       "      <td>purchase of the house</td>\n",
       "    </tr>\n",
       "    <tr>\n",
       "      <th>1</th>\n",
       "      <td>1</td>\n",
       "      <td>-4024.803754</td>\n",
       "      <td>36</td>\n",
       "      <td>secondary education</td>\n",
       "      <td>1</td>\n",
       "      <td>married</td>\n",
       "      <td>0</td>\n",
       "      <td>F</td>\n",
       "      <td>employee</td>\n",
       "      <td>0</td>\n",
       "      <td>17932.802</td>\n",
       "      <td>car purchase</td>\n",
       "    </tr>\n",
       "    <tr>\n",
       "      <th>2</th>\n",
       "      <td>0</td>\n",
       "      <td>-5623.422610</td>\n",
       "      <td>33</td>\n",
       "      <td>Secondary Education</td>\n",
       "      <td>1</td>\n",
       "      <td>married</td>\n",
       "      <td>0</td>\n",
       "      <td>M</td>\n",
       "      <td>employee</td>\n",
       "      <td>0</td>\n",
       "      <td>23341.752</td>\n",
       "      <td>purchase of the house</td>\n",
       "    </tr>\n",
       "    <tr>\n",
       "      <th>3</th>\n",
       "      <td>3</td>\n",
       "      <td>-4124.747207</td>\n",
       "      <td>32</td>\n",
       "      <td>secondary education</td>\n",
       "      <td>1</td>\n",
       "      <td>married</td>\n",
       "      <td>0</td>\n",
       "      <td>M</td>\n",
       "      <td>employee</td>\n",
       "      <td>0</td>\n",
       "      <td>42820.568</td>\n",
       "      <td>supplementary education</td>\n",
       "    </tr>\n",
       "    <tr>\n",
       "      <th>4</th>\n",
       "      <td>0</td>\n",
       "      <td>340266.072047</td>\n",
       "      <td>53</td>\n",
       "      <td>secondary education</td>\n",
       "      <td>1</td>\n",
       "      <td>civil partnership</td>\n",
       "      <td>1</td>\n",
       "      <td>F</td>\n",
       "      <td>retiree</td>\n",
       "      <td>0</td>\n",
       "      <td>25378.572</td>\n",
       "      <td>to have a wedding</td>\n",
       "    </tr>\n",
       "    <tr>\n",
       "      <th>5</th>\n",
       "      <td>0</td>\n",
       "      <td>-926.185831</td>\n",
       "      <td>27</td>\n",
       "      <td>bachelor's degree</td>\n",
       "      <td>0</td>\n",
       "      <td>civil partnership</td>\n",
       "      <td>1</td>\n",
       "      <td>M</td>\n",
       "      <td>business</td>\n",
       "      <td>0</td>\n",
       "      <td>40922.170</td>\n",
       "      <td>purchase of the house</td>\n",
       "    </tr>\n",
       "    <tr>\n",
       "      <th>6</th>\n",
       "      <td>0</td>\n",
       "      <td>-2879.202052</td>\n",
       "      <td>43</td>\n",
       "      <td>bachelor's degree</td>\n",
       "      <td>0</td>\n",
       "      <td>married</td>\n",
       "      <td>0</td>\n",
       "      <td>F</td>\n",
       "      <td>business</td>\n",
       "      <td>0</td>\n",
       "      <td>38484.156</td>\n",
       "      <td>housing transactions</td>\n",
       "    </tr>\n",
       "    <tr>\n",
       "      <th>7</th>\n",
       "      <td>0</td>\n",
       "      <td>-152.779569</td>\n",
       "      <td>50</td>\n",
       "      <td>SECONDARY EDUCATION</td>\n",
       "      <td>1</td>\n",
       "      <td>married</td>\n",
       "      <td>0</td>\n",
       "      <td>M</td>\n",
       "      <td>employee</td>\n",
       "      <td>0</td>\n",
       "      <td>21731.829</td>\n",
       "      <td>education</td>\n",
       "    </tr>\n",
       "    <tr>\n",
       "      <th>8</th>\n",
       "      <td>2</td>\n",
       "      <td>-6929.865299</td>\n",
       "      <td>35</td>\n",
       "      <td>BACHELOR'S DEGREE</td>\n",
       "      <td>0</td>\n",
       "      <td>civil partnership</td>\n",
       "      <td>1</td>\n",
       "      <td>F</td>\n",
       "      <td>employee</td>\n",
       "      <td>0</td>\n",
       "      <td>15337.093</td>\n",
       "      <td>having a wedding</td>\n",
       "    </tr>\n",
       "    <tr>\n",
       "      <th>9</th>\n",
       "      <td>0</td>\n",
       "      <td>-2188.756445</td>\n",
       "      <td>41</td>\n",
       "      <td>secondary education</td>\n",
       "      <td>1</td>\n",
       "      <td>married</td>\n",
       "      <td>0</td>\n",
       "      <td>M</td>\n",
       "      <td>employee</td>\n",
       "      <td>0</td>\n",
       "      <td>23108.150</td>\n",
       "      <td>purchase of the house for my family</td>\n",
       "    </tr>\n",
       "  </tbody>\n",
       "</table>\n",
       "</div>"
      ],
      "text/plain": [
       "   children  days_employed  dob_years            education  education_id  \\\n",
       "0         1   -8437.673028         42    bachelor's degree             0   \n",
       "1         1   -4024.803754         36  secondary education             1   \n",
       "2         0   -5623.422610         33  Secondary Education             1   \n",
       "3         3   -4124.747207         32  secondary education             1   \n",
       "4         0  340266.072047         53  secondary education             1   \n",
       "5         0    -926.185831         27    bachelor's degree             0   \n",
       "6         0   -2879.202052         43    bachelor's degree             0   \n",
       "7         0    -152.779569         50  SECONDARY EDUCATION             1   \n",
       "8         2   -6929.865299         35    BACHELOR'S DEGREE             0   \n",
       "9         0   -2188.756445         41  secondary education             1   \n",
       "\n",
       "       family_status  family_status_id gender income_type  debt  total_income  \\\n",
       "0            married                 0      F    employee     0     40620.102   \n",
       "1            married                 0      F    employee     0     17932.802   \n",
       "2            married                 0      M    employee     0     23341.752   \n",
       "3            married                 0      M    employee     0     42820.568   \n",
       "4  civil partnership                 1      F     retiree     0     25378.572   \n",
       "5  civil partnership                 1      M    business     0     40922.170   \n",
       "6            married                 0      F    business     0     38484.156   \n",
       "7            married                 0      M    employee     0     21731.829   \n",
       "8  civil partnership                 1      F    employee     0     15337.093   \n",
       "9            married                 0      M    employee     0     23108.150   \n",
       "\n",
       "                               purpose  \n",
       "0                purchase of the house  \n",
       "1                         car purchase  \n",
       "2                purchase of the house  \n",
       "3              supplementary education  \n",
       "4                    to have a wedding  \n",
       "5                purchase of the house  \n",
       "6                 housing transactions  \n",
       "7                            education  \n",
       "8                     having a wedding  \n",
       "9  purchase of the house for my family  "
      ]
     },
     "execution_count": 4,
     "metadata": {},
     "output_type": "execute_result"
    }
   ],
   "source": [
    "# vamos a mostrar las primeras filas N\n",
    "dataset.head(10)\n"
   ]
  },
  {
   "cell_type": "markdown",
   "metadata": {},
   "source": [
    "[Describe lo que ves y notas en tu muestra de datos mostrada en la pantalla. ¿Existe algún problema que pueda necesitar investigación y cambios adicionales?]"
   ]
  },
  {
   "cell_type": "markdown",
   "metadata": {},
   "source": [
    "Se puede ver que el número de días empleados es negativo en muchos casos. También puedo notar que en la columna purpose existen descripciones similares pero escritas de modo distinto."
   ]
  },
  {
   "cell_type": "code",
   "execution_count": 5,
   "metadata": {
    "scrolled": false
   },
   "outputs": [
    {
     "name": "stdout",
     "output_type": "stream",
     "text": [
      "<class 'pandas.core.frame.DataFrame'>\n",
      "RangeIndex: 21525 entries, 0 to 21524\n",
      "Data columns (total 12 columns):\n",
      " #   Column            Non-Null Count  Dtype  \n",
      "---  ------            --------------  -----  \n",
      " 0   children          21525 non-null  int64  \n",
      " 1   days_employed     19351 non-null  float64\n",
      " 2   dob_years         21525 non-null  int64  \n",
      " 3   education         21525 non-null  object \n",
      " 4   education_id      21525 non-null  int64  \n",
      " 5   family_status     21525 non-null  object \n",
      " 6   family_status_id  21525 non-null  int64  \n",
      " 7   gender            21525 non-null  object \n",
      " 8   income_type       21525 non-null  object \n",
      " 9   debt              21525 non-null  int64  \n",
      " 10  total_income      19351 non-null  float64\n",
      " 11  purpose           21525 non-null  object \n",
      "dtypes: float64(2), int64(5), object(5)\n",
      "memory usage: 2.0+ MB\n"
     ]
    }
   ],
   "source": [
    "# Obtener información sobre los datos\n",
    "dataset.info()"
   ]
  },
  {
   "cell_type": "markdown",
   "metadata": {},
   "source": [
    "[¿Hay valores ausentes en todas las columnas o solo en algunas? Describe brevemente lo que ves en 1 o 2 oraciones.]"
   ]
  },
  {
   "cell_type": "markdown",
   "metadata": {},
   "source": [
    "Al menos dos columnas (days_employed y total_income) tienen datos ausentes."
   ]
  },
  {
   "cell_type": "code",
   "execution_count": 6,
   "metadata": {
    "scrolled": true
   },
   "outputs": [
    {
     "data": {
      "text/html": [
       "<div>\n",
       "<style scoped>\n",
       "    .dataframe tbody tr th:only-of-type {\n",
       "        vertical-align: middle;\n",
       "    }\n",
       "\n",
       "    .dataframe tbody tr th {\n",
       "        vertical-align: top;\n",
       "    }\n",
       "\n",
       "    .dataframe thead th {\n",
       "        text-align: right;\n",
       "    }\n",
       "</style>\n",
       "<table border=\"1\" class=\"dataframe\">\n",
       "  <thead>\n",
       "    <tr style=\"text-align: right;\">\n",
       "      <th></th>\n",
       "      <th>children</th>\n",
       "      <th>days_employed</th>\n",
       "      <th>dob_years</th>\n",
       "      <th>education</th>\n",
       "      <th>education_id</th>\n",
       "      <th>family_status</th>\n",
       "      <th>family_status_id</th>\n",
       "      <th>gender</th>\n",
       "      <th>income_type</th>\n",
       "      <th>debt</th>\n",
       "      <th>total_income</th>\n",
       "      <th>purpose</th>\n",
       "    </tr>\n",
       "  </thead>\n",
       "  <tbody>\n",
       "    <tr>\n",
       "      <th>12</th>\n",
       "      <td>0</td>\n",
       "      <td>NaN</td>\n",
       "      <td>65</td>\n",
       "      <td>secondary education</td>\n",
       "      <td>1</td>\n",
       "      <td>civil partnership</td>\n",
       "      <td>1</td>\n",
       "      <td>M</td>\n",
       "      <td>retiree</td>\n",
       "      <td>0</td>\n",
       "      <td>NaN</td>\n",
       "      <td>to have a wedding</td>\n",
       "    </tr>\n",
       "    <tr>\n",
       "      <th>26</th>\n",
       "      <td>0</td>\n",
       "      <td>NaN</td>\n",
       "      <td>41</td>\n",
       "      <td>secondary education</td>\n",
       "      <td>1</td>\n",
       "      <td>married</td>\n",
       "      <td>0</td>\n",
       "      <td>M</td>\n",
       "      <td>civil servant</td>\n",
       "      <td>0</td>\n",
       "      <td>NaN</td>\n",
       "      <td>education</td>\n",
       "    </tr>\n",
       "    <tr>\n",
       "      <th>29</th>\n",
       "      <td>0</td>\n",
       "      <td>NaN</td>\n",
       "      <td>63</td>\n",
       "      <td>secondary education</td>\n",
       "      <td>1</td>\n",
       "      <td>unmarried</td>\n",
       "      <td>4</td>\n",
       "      <td>F</td>\n",
       "      <td>retiree</td>\n",
       "      <td>0</td>\n",
       "      <td>NaN</td>\n",
       "      <td>building a real estate</td>\n",
       "    </tr>\n",
       "    <tr>\n",
       "      <th>41</th>\n",
       "      <td>0</td>\n",
       "      <td>NaN</td>\n",
       "      <td>50</td>\n",
       "      <td>secondary education</td>\n",
       "      <td>1</td>\n",
       "      <td>married</td>\n",
       "      <td>0</td>\n",
       "      <td>F</td>\n",
       "      <td>civil servant</td>\n",
       "      <td>0</td>\n",
       "      <td>NaN</td>\n",
       "      <td>second-hand car purchase</td>\n",
       "    </tr>\n",
       "    <tr>\n",
       "      <th>55</th>\n",
       "      <td>0</td>\n",
       "      <td>NaN</td>\n",
       "      <td>54</td>\n",
       "      <td>secondary education</td>\n",
       "      <td>1</td>\n",
       "      <td>civil partnership</td>\n",
       "      <td>1</td>\n",
       "      <td>F</td>\n",
       "      <td>retiree</td>\n",
       "      <td>1</td>\n",
       "      <td>NaN</td>\n",
       "      <td>to have a wedding</td>\n",
       "    </tr>\n",
       "    <tr>\n",
       "      <th>...</th>\n",
       "      <td>...</td>\n",
       "      <td>...</td>\n",
       "      <td>...</td>\n",
       "      <td>...</td>\n",
       "      <td>...</td>\n",
       "      <td>...</td>\n",
       "      <td>...</td>\n",
       "      <td>...</td>\n",
       "      <td>...</td>\n",
       "      <td>...</td>\n",
       "      <td>...</td>\n",
       "      <td>...</td>\n",
       "    </tr>\n",
       "    <tr>\n",
       "      <th>21489</th>\n",
       "      <td>2</td>\n",
       "      <td>NaN</td>\n",
       "      <td>47</td>\n",
       "      <td>Secondary Education</td>\n",
       "      <td>1</td>\n",
       "      <td>married</td>\n",
       "      <td>0</td>\n",
       "      <td>M</td>\n",
       "      <td>business</td>\n",
       "      <td>0</td>\n",
       "      <td>NaN</td>\n",
       "      <td>purchase of a car</td>\n",
       "    </tr>\n",
       "    <tr>\n",
       "      <th>21495</th>\n",
       "      <td>1</td>\n",
       "      <td>NaN</td>\n",
       "      <td>50</td>\n",
       "      <td>secondary education</td>\n",
       "      <td>1</td>\n",
       "      <td>civil partnership</td>\n",
       "      <td>1</td>\n",
       "      <td>F</td>\n",
       "      <td>employee</td>\n",
       "      <td>0</td>\n",
       "      <td>NaN</td>\n",
       "      <td>wedding ceremony</td>\n",
       "    </tr>\n",
       "    <tr>\n",
       "      <th>21497</th>\n",
       "      <td>0</td>\n",
       "      <td>NaN</td>\n",
       "      <td>48</td>\n",
       "      <td>BACHELOR'S DEGREE</td>\n",
       "      <td>0</td>\n",
       "      <td>married</td>\n",
       "      <td>0</td>\n",
       "      <td>F</td>\n",
       "      <td>business</td>\n",
       "      <td>0</td>\n",
       "      <td>NaN</td>\n",
       "      <td>building a property</td>\n",
       "    </tr>\n",
       "    <tr>\n",
       "      <th>21502</th>\n",
       "      <td>1</td>\n",
       "      <td>NaN</td>\n",
       "      <td>42</td>\n",
       "      <td>secondary education</td>\n",
       "      <td>1</td>\n",
       "      <td>married</td>\n",
       "      <td>0</td>\n",
       "      <td>F</td>\n",
       "      <td>employee</td>\n",
       "      <td>0</td>\n",
       "      <td>NaN</td>\n",
       "      <td>building a real estate</td>\n",
       "    </tr>\n",
       "    <tr>\n",
       "      <th>21510</th>\n",
       "      <td>2</td>\n",
       "      <td>NaN</td>\n",
       "      <td>28</td>\n",
       "      <td>secondary education</td>\n",
       "      <td>1</td>\n",
       "      <td>married</td>\n",
       "      <td>0</td>\n",
       "      <td>F</td>\n",
       "      <td>employee</td>\n",
       "      <td>0</td>\n",
       "      <td>NaN</td>\n",
       "      <td>car purchase</td>\n",
       "    </tr>\n",
       "  </tbody>\n",
       "</table>\n",
       "<p>2174 rows × 12 columns</p>\n",
       "</div>"
      ],
      "text/plain": [
       "       children  days_employed  dob_years            education  education_id  \\\n",
       "12            0            NaN         65  secondary education             1   \n",
       "26            0            NaN         41  secondary education             1   \n",
       "29            0            NaN         63  secondary education             1   \n",
       "41            0            NaN         50  secondary education             1   \n",
       "55            0            NaN         54  secondary education             1   \n",
       "...         ...            ...        ...                  ...           ...   \n",
       "21489         2            NaN         47  Secondary Education             1   \n",
       "21495         1            NaN         50  secondary education             1   \n",
       "21497         0            NaN         48    BACHELOR'S DEGREE             0   \n",
       "21502         1            NaN         42  secondary education             1   \n",
       "21510         2            NaN         28  secondary education             1   \n",
       "\n",
       "           family_status  family_status_id gender    income_type  debt  \\\n",
       "12     civil partnership                 1      M        retiree     0   \n",
       "26               married                 0      M  civil servant     0   \n",
       "29             unmarried                 4      F        retiree     0   \n",
       "41               married                 0      F  civil servant     0   \n",
       "55     civil partnership                 1      F        retiree     1   \n",
       "...                  ...               ...    ...            ...   ...   \n",
       "21489            married                 0      M       business     0   \n",
       "21495  civil partnership                 1      F       employee     0   \n",
       "21497            married                 0      F       business     0   \n",
       "21502            married                 0      F       employee     0   \n",
       "21510            married                 0      F       employee     0   \n",
       "\n",
       "       total_income                   purpose  \n",
       "12              NaN         to have a wedding  \n",
       "26              NaN                 education  \n",
       "29              NaN    building a real estate  \n",
       "41              NaN  second-hand car purchase  \n",
       "55              NaN         to have a wedding  \n",
       "...             ...                       ...  \n",
       "21489           NaN         purchase of a car  \n",
       "21495           NaN          wedding ceremony  \n",
       "21497           NaN       building a property  \n",
       "21502           NaN    building a real estate  \n",
       "21510           NaN              car purchase  \n",
       "\n",
       "[2174 rows x 12 columns]"
      ]
     },
     "execution_count": 6,
     "metadata": {},
     "output_type": "execute_result"
    }
   ],
   "source": [
    "# Veamos la tabla filtrada con valores ausentes de la primera columna donde faltan datos\n",
    "\n",
    "dataset[dataset['days_employed'].isna()]\n"
   ]
  },
  {
   "cell_type": "markdown",
   "metadata": {},
   "source": [
    "<div class=\"alert alert-block alert-success\">\n",
    "<b>Comentario del revisor</b> <a class=\"tocSkip\"></a> atencion a los NaN's!"
   ]
  },
  {
   "cell_type": "markdown",
   "metadata": {},
   "source": [
    "[¿Los valores ausentes parecen simétricos? ¿Podemos estar seguros de esta suposición? Explica brevemente tus pensamientos en esta sección. Probablemente desees realizar investigaciones adicionales y contar los valores ausentes en todas las filas con valores ausentes para confirmar que las muestras que faltan son del mismo tamaño.]"
   ]
  },
  {
   "cell_type": "markdown",
   "metadata": {},
   "source": [
    "Parece que los valores ausentes en days_employed corresponden con los valores ausentes en total_income."
   ]
  },
  {
   "cell_type": "code",
   "execution_count": 7,
   "metadata": {},
   "outputs": [
    {
     "data": {
      "text/plain": [
       "False    19351\n",
       "True      2174\n",
       "Name: days_employed, dtype: int64"
      ]
     },
     "execution_count": 7,
     "metadata": {},
     "output_type": "execute_result"
    }
   ],
   "source": [
    "dataset['days_employed'].isna().value_counts()"
   ]
  },
  {
   "cell_type": "code",
   "execution_count": 8,
   "metadata": {},
   "outputs": [
    {
     "name": "stdout",
     "output_type": "stream",
     "text": [
      "\n",
      "False    21525\n",
      "Name: children, dtype: int64\n",
      "\n",
      "False    19351\n",
      "True      2174\n",
      "Name: days_employed, dtype: int64\n",
      "\n",
      "False    21525\n",
      "Name: dob_years, dtype: int64\n",
      "\n",
      "False    21525\n",
      "Name: education, dtype: int64\n",
      "\n",
      "False    21525\n",
      "Name: education_id, dtype: int64\n",
      "\n",
      "False    21525\n",
      "Name: family_status, dtype: int64\n",
      "\n",
      "False    21525\n",
      "Name: family_status_id, dtype: int64\n",
      "\n",
      "False    21525\n",
      "Name: gender, dtype: int64\n",
      "\n",
      "False    21525\n",
      "Name: income_type, dtype: int64\n",
      "\n",
      "False    21525\n",
      "Name: debt, dtype: int64\n",
      "\n",
      "False    19351\n",
      "True      2174\n",
      "Name: total_income, dtype: int64\n",
      "\n",
      "False    21525\n",
      "Name: purpose, dtype: int64\n"
     ]
    }
   ],
   "source": [
    "# Apliquemos múltiples condiciones para filtrar datos y veamos el número de filas en la tabla filtrada.\n",
    "for column in dataset:\n",
    "    print()\n",
    "    \n",
    "    if (dataset[column].isna().count())>0:\n",
    "        print(dataset[column].isna().value_counts())\n",
    "               \n",
    "    else: \n",
    "        print('no hay valores ausentes en esta columna')\n",
    "\n"
   ]
  },
  {
   "cell_type": "markdown",
   "metadata": {},
   "source": [
    "**Conclusión intermedia**\n",
    "\n",
    "[¿El número de filas en la tabla filtrada coincide con el número de valores ausentes? ¿Qué conclusión podemos sacar de esto?]\n",
    "\n",
    "El número de filas con datos ausentes coincide para days_employed y total_income. Cada vez que se omitió el dato days_employed también sucedió lo mismo para total_income.\n",
    "\n",
    "[Calcula el porcentaje de los valores ausentes en comparación con el conjunto de datos completo. ¿Se trata de una porción de datos considerablemente grande? Si es así, es posible que quieras completar los valores ausentes. Para hacer eso, primero debemos definir si los datos ausentes podrían deberse a la característica específica del cliente, como el tipo de empleo u otra cosa. Tendrás que decidir qué característica, según *tú*, podría ser la razón. En segundo lugar, debemos verificar si los valores ausentes dependen de alguna manera del valor de otros indicadores con las columnas con características de clientes, específicas e identificadas.]\n",
    "\n",
    "El porcentaje de datos ausentes es de 10% en cada caso. No parece que haya correlación con ninguna característica específica del cliente a primera vista.\n",
    "\n",
    "[Explica tus próximos pasos y cómo se correlacionan con las conclusiones que has hecho hasta ahora.]\n",
    "\n",
    "A continuación, voy a revisar algunas filas de las columnas en donde days_employed es un dato ausente para verificar si existe algún patrón evidente que pudiera indicar la razón de los datos ausentes."
   ]
  },
  {
   "cell_type": "code",
   "execution_count": 9,
   "metadata": {
    "scrolled": true
   },
   "outputs": [
    {
     "data": {
      "text/plain": [
       "False    21525\n",
       "Name: debt, dtype: int64"
      ]
     },
     "execution_count": 9,
     "metadata": {},
     "output_type": "execute_result"
    }
   ],
   "source": [
    "# Vamos a investigar a los clientes que no tienen datos sobre la característica identificada y la columna con los valores ausentes\n",
    "dataset['debt'].isna().value_counts()\n",
    "\n",
    "    \n",
    "    \n",
    "    \n",
    "        \n",
    "        \n"
   ]
  },
  {
   "cell_type": "code",
   "execution_count": 10,
   "metadata": {},
   "outputs": [
    {
     "name": "stdout",
     "output_type": "stream",
     "text": [
      "days_employed\n",
      "0    2004\n",
      "1     170\n",
      "Name: debt, dtype: int64\n",
      "\n",
      "total_income\n",
      "0    2004\n",
      "1     170\n",
      "Name: debt, dtype: int64\n"
     ]
    }
   ],
   "source": [
    "# Comprobación de la distribución\n",
    "print(dataset.columns[1])\n",
    "print(dataset[dataset['days_employed'].isna()]['debt'].value_counts())\n",
    "print()\n",
    "print(dataset.columns[10])\n",
    "print(dataset[dataset['total_income'].isna()]['debt'].value_counts())\n",
    "\n",
    "\n"
   ]
  },
  {
   "cell_type": "markdown",
   "metadata": {},
   "source": [
    "He podido comprobar que cuando days_employed y total_income son valores ausentes, la mayoría de las entradas en debt son igual a 0. La distribución de datos en debt = 1 y debt = 0 confirman que debt=0 posee la mayoría pero no todos los datos ausentes de las coñumnas days_employed y total_income."
   ]
  },
  {
   "cell_type": "markdown",
   "metadata": {},
   "source": [
    "Describe aquí tus hallazgos.\n",
    "\n",
    "Se ha podido determinar que solamente el 8% de los datos ausentes tienen un valor en debt = 1, en oposisicón al 92% de los datos ausentes en los cuales debt = 0. Sin embargo, no existe evidencia suficiente para concluir que todos los valores ausentes siguen a los niveles de la columna debt.\n",
    "\n",
    "**Posibles razones por las que hay valores ausentes en los datos**\n",
    "\n",
    "[Propón tus ideas sobre por qué crees que los valores pueden estar ausentes. ¿Crees que están ausentes al azar o hay algún patrón?]\n",
    "\n",
    "No hay una razón lógica aparente por la que los datos ausentes sigan a la distribución de la columna debt (a pesar de que el 92% de los datos ausentes son debt=0).\n",
    "\n",
    "[Empecemos a comprobar si los valores ausentes son aleatorios.]\n",
    "A continuación me gustaría verificar la distribución de datos ausentes en cada una de las columnas a detalle por medio de una tabla de Pareto."
   ]
  },
  {
   "cell_type": "code",
   "execution_count": 11,
   "metadata": {},
   "outputs": [
    {
     "name": "stdout",
     "output_type": "stream",
     "text": [
      "*Pareto by children :\n",
      " 0     1439\n",
      " 1      475\n",
      " 2      204\n",
      " 3       36\n",
      " 20       9\n",
      " 4        7\n",
      "-1        3\n",
      " 5        1\n",
      "Name: children, dtype: int64\n",
      "\n",
      "*Pareto by days_employed :\n",
      "Series([], Name: days_employed, dtype: int64)\n",
      "\n",
      "*Pareto by dob_years :\n",
      "34    69\n",
      "40    66\n",
      "31    65\n",
      "42    65\n",
      "35    64\n",
      "36    63\n",
      "47    59\n",
      "41    59\n",
      "30    58\n",
      "28    57\n",
      "57    56\n",
      "58    56\n",
      "54    55\n",
      "38    54\n",
      "56    54\n",
      "37    53\n",
      "52    53\n",
      "39    51\n",
      "33    51\n",
      "50    51\n",
      "51    50\n",
      "45    50\n",
      "49    50\n",
      "29    50\n",
      "43    50\n",
      "46    48\n",
      "55    48\n",
      "48    46\n",
      "53    44\n",
      "44    44\n",
      "60    39\n",
      "61    38\n",
      "62    38\n",
      "64    37\n",
      "32    37\n",
      "27    36\n",
      "23    36\n",
      "26    35\n",
      "59    34\n",
      "63    29\n",
      "25    23\n",
      "24    21\n",
      "66    20\n",
      "65    20\n",
      "21    18\n",
      "22    17\n",
      "67    16\n",
      "0     10\n",
      "68     9\n",
      "69     5\n",
      "20     5\n",
      "71     5\n",
      "70     3\n",
      "72     2\n",
      "19     1\n",
      "73     1\n",
      "Name: dob_years, dtype: int64\n",
      "\n",
      "*Pareto by education :\n",
      "secondary education    1408\n",
      "bachelor's degree       496\n",
      "SECONDARY EDUCATION      67\n",
      "Secondary Education      65\n",
      "some college             55\n",
      "Bachelor's Degree        25\n",
      "BACHELOR'S DEGREE        23\n",
      "primary education        19\n",
      "Some College              7\n",
      "SOME COLLEGE              7\n",
      "PRIMARY EDUCATION         1\n",
      "Primary Education         1\n",
      "Name: education, dtype: int64\n",
      "\n",
      "*Pareto by education_id :\n",
      "1    1540\n",
      "0     544\n",
      "2      69\n",
      "3      21\n",
      "Name: education_id, dtype: int64\n",
      "\n",
      "*Pareto by family_status :\n",
      "married              1237\n",
      "civil partnership     442\n",
      "unmarried             288\n",
      "divorced              112\n",
      "widow / widower        95\n",
      "Name: family_status, dtype: int64\n",
      "\n",
      "*Pareto by family_status_id :\n",
      "0    1237\n",
      "1     442\n",
      "4     288\n",
      "3     112\n",
      "2      95\n",
      "Name: family_status_id, dtype: int64\n",
      "\n",
      "*Pareto by gender :\n",
      "F    1484\n",
      "M     690\n",
      "Name: gender, dtype: int64\n",
      "\n",
      "*Pareto by income_type :\n",
      "employee         1105\n",
      "business          508\n",
      "retiree           413\n",
      "civil servant     147\n",
      "entrepreneur        1\n",
      "Name: income_type, dtype: int64\n",
      "\n",
      "*Pareto by debt :\n",
      "0    2004\n",
      "1     170\n",
      "Name: debt, dtype: int64\n",
      "\n",
      "*Pareto by total_income :\n",
      "Series([], Name: total_income, dtype: int64)\n",
      "\n",
      "*Pareto by purpose :\n",
      "having a wedding                            92\n",
      "to have a wedding                           81\n",
      "wedding ceremony                            76\n",
      "construction of own property                75\n",
      "housing transactions                        74\n",
      "buy real estate                             72\n",
      "transactions with my real estate            71\n",
      "purchase of the house for my family         71\n",
      "transactions with commercial real estate    70\n",
      "housing renovation                          70\n",
      "buy commercial real estate                  67\n",
      "buying property for renting out             65\n",
      "property                                    62\n",
      "real estate transactions                    61\n",
      "buy residential real estate                 61\n",
      "housing                                     60\n",
      "building a property                         59\n",
      "cars                                        57\n",
      "going to university                         56\n",
      "to become educated                          55\n",
      "second-hand car purchase                    54\n",
      "buying my own car                           53\n",
      "purchase of the house                       52\n",
      "to own a car                                52\n",
      "to get a supplementary education            51\n",
      "getting an education                        50\n",
      "supplementary education                     48\n",
      "profile education                           47\n",
      "building a real estate                      46\n",
      "purchase of my own house                    46\n",
      "purchase of a car                           46\n",
      "car purchase                                43\n",
      "education                                   42\n",
      "buying a second-hand car                    42\n",
      "car                                         41\n",
      "university education                        40\n",
      "getting higher education                    36\n",
      "to buy a car                                30\n",
      "Name: purpose, dtype: int64\n",
      "\n",
      "\n"
     ]
    }
   ],
   "source": [
    "# Comprobando la distribución en el conjunto de datos entero\n",
    "for i in range(12):\n",
    "    print('*Pareto by',dataset.columns[i],\":\")\n",
    "    #print('total count:',len(dataset.iloc[:,i].unique())) \n",
    "    #print('unique list:',dataset.iloc[:,i].unique())\n",
    "    print(dataset.iloc[:,i][dataset['days_employed'].isna()].value_counts())\n",
    "    print()\n",
    "print()\n"
   ]
  },
  {
   "cell_type": "markdown",
   "metadata": {},
   "source": [
    "**Conclusión intermedia**\n",
    "\n",
    "[¿Es similar la distribución en el conjunto de datos original a la distribución de la tabla filtrada? ¿Qué significa eso para nosotros?]\n",
    "\n",
    "- Pareto de ausentes by children: el 80% de los datos ausentes están en los niveles de children 0 (66%) y 1 (21.8%).\n",
    "- Pareto de ausentes by DOB_years: se requiere un análisis más profundo en rangos de edad (a continuación).\n",
    "- Pareto de ausentes by education: el 70% de los datos corresponden a secondary education; el 25% a bachelor´s degree.\n",
    "- Pareto de ausentes by education_id: el 70% de los datos ausentes corresponden a id 1; y el 25% de los datos corresponde a id 0.\n",
    "- Pareto de ausentes by family_status: el 56% de los datos corresponden a married; el 20% corresponde a civil partnership.\n",
    "- Pareto de ausentes by family_status_id: el 56% de los datos corresponden a id 0; el 20% corresponde a id 1.\n",
    "- Pareto de ausentes by gender: el 68% de los datos corresponde a gender F; el 32% a gender M.\n",
    "- Pareto de ausentes by income_type: el 50% de los datos corresponde a type employee; el 23% a type business.\n",
    "- Pareto de ausentes by purpose: solo 11% corresponde a wedding; no existe una distribución sesgada en ninguna categoría.\n",
    "\n",
    "[Si crees que aún no podemos llegar a ninguna conclusión, investiguemos más a fondo nuestro conjunto de datos. Pensemos en otras razones que podrían llevar a la ausencia de datos y verifiquemos si podemos encontrar algún patrón que nos haga pensar que los valores ausentes no son aleatorios. Ya que es tu trabajo, esta sección es opcional.]"
   ]
  },
  {
   "cell_type": "code",
   "execution_count": 12,
   "metadata": {
    "scrolled": true
   },
   "outputs": [
    {
     "name": "stdout",
     "output_type": "stream",
     "text": [
      "age range -10 to 0\n",
      "0\n",
      "age range 0 to 10\n",
      "10\n",
      "age range 10 to 20\n",
      "1\n",
      "age range 20 to 30\n",
      "298\n",
      "age range 30 to 40\n",
      "565\n",
      "age range 40 to 50\n",
      "537\n",
      "age range 50 to 60\n",
      "501\n",
      "age range 60 to 70\n",
      "251\n",
      "age range 70 to 80\n",
      "11\n"
     ]
    }
   ],
   "source": [
    "# Comprueba otras razones y patrones que podrían llevar a valores ausentes\n",
    "#print(dataset[dataset['dob_years']<=18]['gender'].value_counts())\n",
    "#print(dataset[dataset['dob_years']<=18]['dob_years'].value_counts())\n",
    "for i in range(9):\n",
    "    i*=10\n",
    "    print(\"age range\", i-10,\"to\",i)\n",
    "    print(dataset[(dataset['days_employed'].isna())&(dataset['dob_years']<i)&(dataset['dob_years']>=(i-10))]['dob_years'].count())"
   ]
  },
  {
   "cell_type": "markdown",
   "metadata": {},
   "source": [
    "- Pareto de ausentes by DOB_years: el 20% de los datos ausentes corresponden al rango de edad menor a 30 años. El 80% corresponde a el rango de edad mayor de 30 años."
   ]
  },
  {
   "cell_type": "markdown",
   "metadata": {},
   "source": [
    "**Conclusión intermedia**\n",
    "\n",
    "[¿Podemos finalmente confirmar que los valores ausentes son accidentales? Verifica cualquier otra cosa que creas que podría ser importante aquí.]\n",
    "\n",
    "Tengo certeza de que los datos faltantes son aleatorios. A pesar de que los grupos de datos children, debt y dob_years presentan sesgos importantes en alguna de sus categorías (80% o más de los datos ausentes), no existe evidencia lógica suficiente para determinar que los valores ausentes en las columnas total_income y days_employed están relacionados con las columnas evaluadas."
   ]
  },
  {
   "cell_type": "code",
   "execution_count": 13,
   "metadata": {
    "scrolled": true
   },
   "outputs": [],
   "source": [
    "# Comprobación de otros patrones: explica cuáles"
   ]
  },
  {
   "cell_type": "markdown",
   "metadata": {},
   "source": [
    "**Conclusiones**\n",
    "\n",
    "[¿Encontraste algunos patrones? ¿Cómo llegaste a esta conclusión?]\n",
    "\n",
    "No he encontrado ningún patrón en relación a los datos ausentes. Se han revisado todas las columnas donde las filas de datos ausentes se encuentran y no hay una separación completa de datos respecto a los datos ausentes.\n",
    "\n",
    "[Explica cómo abordarás los valores ausentes. Ten en cuenta las categorías en las que faltan valores.]\n",
    "\n",
    "Dado que los valores ausentes son numéricos y representan el 10% de los datos totales de la tabla yo optaría por eliminarlos.\n",
    "\n",
    "[Planifica brevemente tus próximos pasos en la transformación de datos. Probablemente tendrás que abordar diferentes tipos de problemas: duplicados, diferentes registros, artefactos incorrectos y valores ausentes.]"
   ]
  },
  {
   "cell_type": "markdown",
   "metadata": {},
   "source": [
    "<div class=\"alert alert-block alert-success\">\n",
    "<b>Comentario del revisor</b> <a class=\"tocSkip\"></a> Genial!"
   ]
  },
  {
   "cell_type": "markdown",
   "metadata": {},
   "source": [
    "## Transformación de datos\n",
    "\n",
    "[Repasemos cada columna para ver qué problemas podemos tener en ellas.]\n",
    "\n",
    "[Comienza con la eliminación de duplicados y la corrección de la información educativa si es necesario.]"
   ]
  },
  {
   "cell_type": "code",
   "execution_count": 14,
   "metadata": {},
   "outputs": [
    {
     "name": "stdout",
     "output_type": "stream",
     "text": [
      "[\"bachelor's degree\" 'secondary education' 'Secondary Education'\n",
      " 'SECONDARY EDUCATION' \"BACHELOR'S DEGREE\" 'some college'\n",
      " 'primary education' \"Bachelor's Degree\" 'SOME COLLEGE' 'Some College'\n",
      " 'PRIMARY EDUCATION' 'Primary Education' 'Graduate Degree'\n",
      " 'GRADUATE DEGREE' 'graduate degree']\n"
     ]
    }
   ],
   "source": [
    "# Veamos todos los valores en la columna de educación para verificar si será necesario corregir la ortografía y qué habrá que corregir exactamente\n",
    "print(dataset['education'].unique())\n"
   ]
  },
  {
   "cell_type": "code",
   "execution_count": 15,
   "metadata": {
    "scrolled": true
   },
   "outputs": [],
   "source": [
    "# Arregla los registros si es necesario\n",
    "def replace_wrong_values(wrong_values,correct_value):\n",
    "    for wrong_value in wrong_values:\n",
    "        dataset['education'] = dataset['education'].replace(wrong_value,correct_value)\n",
    "\n",
    "duplicates = [[\"bachelor's degree\", \"BACHELOR'S DEGREE\"],['secondary education','SECONDARY EDUCATION'],['some college','SOME COLLEGE'],['primary education','PRIMARY EDUCATION'],['GRADUATE DEGREE','graduate degree']]\n",
    "correction = [\"Bachelor's Degree\",'Secondary Education','Some College','Primary Education','Graduate Degree']\n",
    "\n",
    "for duplicate in duplicates: \n",
    "        for correct_name in correction:\n",
    "            replace_wrong_values(duplicate,correct_name)\n",
    "\n"
   ]
  },
  {
   "cell_type": "markdown",
   "metadata": {},
   "source": [
    "<div class=\"alert alert-block alert-success\">\n",
    "<b>Comentario del revisor</b> <a class=\"tocSkip\"></a> Funciona correcto!"
   ]
  },
  {
   "cell_type": "code",
   "execution_count": 16,
   "metadata": {},
   "outputs": [
    {
     "name": "stdout",
     "output_type": "stream",
     "text": [
      "[\"Bachelor's Degree\" 'Secondary Education' 'Some College'\n",
      " 'Primary Education' 'Graduate Degree']\n"
     ]
    }
   ],
   "source": [
    "# Comprobar todos los valores en la columna para asegurarnos de que los hayamos corregido\n",
    "print(dataset['education'].unique())\n"
   ]
  },
  {
   "cell_type": "markdown",
   "metadata": {},
   "source": [
    "[Comprueba los datos de la columna `children`]"
   ]
  },
  {
   "cell_type": "code",
   "execution_count": 17,
   "metadata": {},
   "outputs": [
    {
     "name": "stdout",
     "output_type": "stream",
     "text": [
      " 0     14149\n",
      " 1      4818\n",
      " 2      2055\n",
      " 3       330\n",
      " 20       76\n",
      "-1        47\n",
      " 4        41\n",
      " 5         9\n",
      "Name: children, dtype: int64\n"
     ]
    }
   ],
   "source": [
    "# Veamos la distribución de los valores en la columna `children`\n",
    "print(dataset['children'].value_counts())"
   ]
  },
  {
   "cell_type": "markdown",
   "metadata": {},
   "source": [
    "[¿Hay cosas extrañas en esta columna? Si es así, ¿cuál es el porcentaje de datos problemáticos? ¿Cómo es posible que hayan ocurrido? Toma una decisión sobre lo que harás con estos datos y explica tu razonamiento.]\n",
    "\n",
    "-1 y 20 no son números razonables, es probable que sea un error de captura y su contenido requiere ser añadido a 1 y 2 respectivamente."
   ]
  },
  {
   "cell_type": "code",
   "execution_count": 18,
   "metadata": {},
   "outputs": [],
   "source": [
    "# [arregla los datos según tu decisión]\n",
    "\n",
    "dataset.loc[dataset['children']==-1,'children']=1\n",
    "dataset.loc[dataset['children']==20,'children']=2"
   ]
  },
  {
   "cell_type": "code",
   "execution_count": 19,
   "metadata": {},
   "outputs": [
    {
     "name": "stdout",
     "output_type": "stream",
     "text": [
      "0    14149\n",
      "1     4865\n",
      "2     2131\n",
      "3      330\n",
      "4       41\n",
      "5        9\n",
      "Name: children, dtype: int64\n"
     ]
    }
   ],
   "source": [
    "# Comprobar la columna `children` de nuevo para asegurarnos de que todo está arreglado\n",
    "\n",
    "print(dataset['children'].value_counts())"
   ]
  },
  {
   "cell_type": "markdown",
   "metadata": {},
   "source": [
    "[Comprueba los datos en la columna `days_employed`. En primer lugar, piensa qué tipo de problemas podría haber, qué posiblemente desees comprobar y cómo lo harás.]"
   ]
  },
  {
   "cell_type": "code",
   "execution_count": 20,
   "metadata": {},
   "outputs": [
    {
     "name": "stdout",
     "output_type": "stream",
     "text": [
      "0.8219730246498889\n"
     ]
    }
   ],
   "source": [
    "# Encuentra datos problemáticos en `days_employed`, si existen, y calcula el porcentaje\n",
    "\n",
    "total = dataset['days_employed'].count()\n",
    "wrong = dataset[dataset['days_employed']<=0]['days_employed'].count()\n",
    "percentage_wrong = wrong / total\n",
    "print(percentage_wrong)"
   ]
  },
  {
   "cell_type": "markdown",
   "metadata": {},
   "source": [
    "[Si la cantidad de datos problemáticos es alta, podría deberse a problemas técnicos. Puede que queramos proponer la razón más obvia por la que podría haber sucedido y cuáles podrían haber sido los datos correctos, ya que no podemos eliminar estas filas problemáticas.]\n",
    "\n",
    "La cantidad de datos con números negativos para los días es del 82%, es bastante alta y procederá a corregirlos."
   ]
  },
  {
   "cell_type": "code",
   "execution_count": 21,
   "metadata": {},
   "outputs": [],
   "source": [
    "# Aborda los valores problemáticos, si existen.\n",
    "\n",
    "dataset.loc[dataset['days_employed']<=0,'days_employed']*=-1\n"
   ]
  },
  {
   "cell_type": "code",
   "execution_count": 22,
   "metadata": {},
   "outputs": [
    {
     "name": "stdout",
     "output_type": "stream",
     "text": [
      "0\n",
      "\n"
     ]
    },
    {
     "data": {
      "text/plain": [
       "0      8437.673028\n",
       "1      4024.803754\n",
       "2      5623.422610\n",
       "3      4124.747207\n",
       "4    340266.072047\n",
       "5       926.185831\n",
       "6      2879.202052\n",
       "7       152.779569\n",
       "8      6929.865299\n",
       "9      2188.756445\n",
       "Name: days_employed, dtype: float64"
      ]
     },
     "execution_count": 22,
     "metadata": {},
     "output_type": "execute_result"
    }
   ],
   "source": [
    "# Comprueba el resultado - asegúrate de que esté arreglado\n",
    "print(dataset[dataset['days_employed']<=0]['days_employed'].count())\n",
    "print()\n",
    "dataset['days_employed'].head(10)\n"
   ]
  },
  {
   "cell_type": "code",
   "execution_count": 23,
   "metadata": {},
   "outputs": [
    {
     "name": "stdout",
     "output_type": "stream",
     "text": [
      "education\n",
      "Bachelor's Degree      42\n",
      "Graduate Degree        69\n",
      "Primary Education      40\n",
      "Secondary Education    45\n",
      "Some College           31\n",
      "Name: dob_years, dtype: int64\n",
      "\n",
      "0    101\n",
      "Name: dob_years, dtype: int64\n"
     ]
    }
   ],
   "source": [
    "# Ahora echemos un vistazo a la edad de clientes para ver si hay algún problema allí. Una vez más, piensa qué datos pueden ser extraños en esta columna, es decir, qué dato no puede ser la edad de alguien.\n",
    "\n",
    "print(dataset.groupby('education')['dob_years'].median())\n",
    "\n",
    "count = 0\n",
    "#wrong_age_list = []\n",
    "for data in dataset['dob_years']:\n",
    "    if data < int(18):\n",
    "        count +=1\n",
    "#print(count)\n",
    "print()\n",
    "print(dataset[dataset['dob_years']<18]['dob_years'].value_counts())\n",
    "\n",
    "\n",
    "\n"
   ]
  },
  {
   "cell_type": "markdown",
   "metadata": {},
   "source": [
    "Existen 101 datos en edad que corresponden a la edad de cero años, lo cual es extraño e incorrecto. Estos dtos se distribuyen en los diferentes niveles de educación. He calculado la mediana por nivel educativo para asignar este valor a los datos donde la edad es cero."
   ]
  },
  {
   "cell_type": "code",
   "execution_count": 24,
   "metadata": {
    "scrolled": true
   },
   "outputs": [
    {
     "name": "stdout",
     "output_type": "stream",
     "text": [
      "0.004692218350754936\n",
      "\n",
      "Bachelor's Degree      98\n",
      "Secondary Education     3\n",
      "Name: education, dtype: int64\n"
     ]
    }
   ],
   "source": [
    "# Revisa `dob_years` en busca de valores sospechosos y cuenta el porcentaje\n",
    "\n",
    "print(count/dataset['dob_years'].count())\n",
    "print()\n",
    "print(dataset[dataset['dob_years']<18]['education'].value_counts())\n",
    "\n",
    "\n"
   ]
  },
  {
   "cell_type": "markdown",
   "metadata": {},
   "source": [
    "[Decide qué harás con los valores problemáticos y explica por qué.]\n",
    "\n",
    "Voy a cambiar los valores de edad cero por la mediana de edad por nivel de educación corresondiente."
   ]
  },
  {
   "cell_type": "code",
   "execution_count": 25,
   "metadata": {},
   "outputs": [],
   "source": [
    "# Resuelve los problemas en la columna `dob_years`, si existen\n",
    "\n",
    "#print(dataset[dataset['education']==\"Bachelor's Degree\"]['dob_years'].median())\n",
    "#print(dataset[dataset['education']==\"Secondary Education\"]['dob_years'].median())\n",
    "#dataset['dob_years'] = dataset['dob_years'].replace(0,42)\n",
    "#dataset[dataset['education']==\"Bachelor's Degree\"]['dob_years'].replace(0,42)\n",
    "dataset['dob_years'] = dataset.loc[(dataset['dob_years']==0)&(dataset['education']==\"Secondary Education\")] = 45\n",
    "dataset['dob_years'] = dataset.loc[(dataset['dob_years']==0)&(dataset['education']==\"Bachelor's Degree\")] = 42\n"
   ]
  },
  {
   "cell_type": "code",
   "execution_count": 26,
   "metadata": {},
   "outputs": [],
   "source": [
    "#dataset[dataset['education']==\"Secondary Education\"]['dob_years'].replace(0,45)\n",
    "#print(dataset[dataset['dob_years']==45].count())"
   ]
  },
  {
   "cell_type": "code",
   "execution_count": 27,
   "metadata": {},
   "outputs": [
    {
     "name": "stdout",
     "output_type": "stream",
     "text": [
      "Empty DataFrame\n",
      "Columns: [children, days_employed, dob_years, education, education_id, family_status, family_status_id, gender, income_type, debt, total_income, purpose]\n",
      "Index: []\n"
     ]
    }
   ],
   "source": [
    "# Comprueba el resultado - asegúrate de que esté arreglado\n",
    "print(dataset[dataset['dob_years']==0])\n"
   ]
  },
  {
   "cell_type": "markdown",
   "metadata": {},
   "source": [
    "[Ahora revisemos la columna `family_status`. Mira qué tipo de valores hay y qué problemas puedes tener que abordar.]"
   ]
  },
  {
   "cell_type": "code",
   "execution_count": 28,
   "metadata": {
    "scrolled": true
   },
   "outputs": [
    {
     "name": "stdout",
     "output_type": "stream",
     "text": [
      "married              12380\n",
      "civil partnership     4177\n",
      "unmarried             2813\n",
      "divorced              1195\n",
      "widow / widower        960\n",
      "Name: family_status, dtype: int64\n",
      "['married' 'civil partnership' 'widow / widower' 'divorced' 'unmarried']\n",
      "21525\n"
     ]
    }
   ],
   "source": [
    "# Veamos los valores de la columna\n",
    "\n",
    "print(dataset['family_status'].value_counts())\n",
    "print(dataset['family_status'].unique())\n",
    "print(dataset['family_status'].count())\n"
   ]
  },
  {
   "cell_type": "code",
   "execution_count": 29,
   "metadata": {},
   "outputs": [],
   "source": [
    "# Aborda los valores problemáticos en `family_status`, si existen\n",
    "\n"
   ]
  },
  {
   "cell_type": "code",
   "execution_count": 30,
   "metadata": {},
   "outputs": [],
   "source": [
    "# Comprueba el resultado - asegúrate de que esté arreglado\n"
   ]
  },
  {
   "cell_type": "markdown",
   "metadata": {},
   "source": [
    "[Ahora revisemos la columna `gender`. Mira qué tipo de valores hay y qué problemas puedes tener que abordar]"
   ]
  },
  {
   "cell_type": "code",
   "execution_count": 31,
   "metadata": {},
   "outputs": [
    {
     "name": "stdout",
     "output_type": "stream",
     "text": [
      "F      14236\n",
      "M       7288\n",
      "XNA        1\n",
      "Name: gender, dtype: int64\n",
      "['F' 'M' 'XNA']\n",
      "21525\n"
     ]
    }
   ],
   "source": [
    "# Veamos los valores en la columna\n",
    "print(dataset['gender'].value_counts())\n",
    "print(dataset['gender'].unique())\n",
    "print(dataset['gender'].count())"
   ]
  },
  {
   "cell_type": "code",
   "execution_count": 32,
   "metadata": {},
   "outputs": [
    {
     "data": {
      "text/html": [
       "<div>\n",
       "<style scoped>\n",
       "    .dataframe tbody tr th:only-of-type {\n",
       "        vertical-align: middle;\n",
       "    }\n",
       "\n",
       "    .dataframe tbody tr th {\n",
       "        vertical-align: top;\n",
       "    }\n",
       "\n",
       "    .dataframe thead th {\n",
       "        text-align: right;\n",
       "    }\n",
       "</style>\n",
       "<table border=\"1\" class=\"dataframe\">\n",
       "  <thead>\n",
       "    <tr style=\"text-align: right;\">\n",
       "      <th></th>\n",
       "      <th>children</th>\n",
       "      <th>days_employed</th>\n",
       "      <th>dob_years</th>\n",
       "      <th>education</th>\n",
       "      <th>education_id</th>\n",
       "      <th>family_status</th>\n",
       "      <th>family_status_id</th>\n",
       "      <th>gender</th>\n",
       "      <th>income_type</th>\n",
       "      <th>debt</th>\n",
       "      <th>total_income</th>\n",
       "      <th>purpose</th>\n",
       "    </tr>\n",
       "  </thead>\n",
       "  <tbody>\n",
       "    <tr>\n",
       "      <th>10701</th>\n",
       "      <td>0</td>\n",
       "      <td>2358.600502</td>\n",
       "      <td>42</td>\n",
       "      <td>Bachelor's Degree</td>\n",
       "      <td>2</td>\n",
       "      <td>civil partnership</td>\n",
       "      <td>1</td>\n",
       "      <td>XNA</td>\n",
       "      <td>business</td>\n",
       "      <td>0</td>\n",
       "      <td>32624.825</td>\n",
       "      <td>buy real estate</td>\n",
       "    </tr>\n",
       "  </tbody>\n",
       "</table>\n",
       "</div>"
      ],
      "text/plain": [
       "       children  days_employed  dob_years          education  education_id  \\\n",
       "10701         0    2358.600502         42  Bachelor's Degree             2   \n",
       "\n",
       "           family_status  family_status_id gender income_type  debt  \\\n",
       "10701  civil partnership                 1    XNA    business     0   \n",
       "\n",
       "       total_income          purpose  \n",
       "10701     32624.825  buy real estate  "
      ]
     },
     "execution_count": 32,
     "metadata": {},
     "output_type": "execute_result"
    }
   ],
   "source": [
    "# Aborda los valores problemáticos, si existen\n",
    "dataset[dataset['gender']=='XNA']"
   ]
  },
  {
   "cell_type": "code",
   "execution_count": 33,
   "metadata": {},
   "outputs": [],
   "source": [
    "# Comprueba el resultado - asegúrate de que esté arreglado\n",
    "\n"
   ]
  },
  {
   "cell_type": "markdown",
   "metadata": {},
   "source": [
    "[Ahora vamos a revisar la columna `income_type`. Mira qué tipo de valores hay y qué problemas puedes tener que abordar]"
   ]
  },
  {
   "cell_type": "code",
   "execution_count": 34,
   "metadata": {},
   "outputs": [
    {
     "name": "stdout",
     "output_type": "stream",
     "text": [
      "employee                       11119\n",
      "business                        5085\n",
      "retiree                         3856\n",
      "civil servant                   1459\n",
      "unemployed                         2\n",
      "entrepreneur                       2\n",
      "student                            1\n",
      "paternity / maternity leave        1\n",
      "Name: income_type, dtype: int64\n",
      "['employee' 'retiree' 'business' 'civil servant' 'unemployed'\n",
      " 'entrepreneur' 'student' 'paternity / maternity leave']\n",
      "21525\n"
     ]
    }
   ],
   "source": [
    "# Veamos los valores en la columna\n",
    "print(dataset['income_type'].value_counts())\n",
    "print(dataset['income_type'].unique())\n",
    "print(dataset['income_type'].count())"
   ]
  },
  {
   "cell_type": "code",
   "execution_count": 35,
   "metadata": {},
   "outputs": [],
   "source": [
    "# Aborda los valores problemáticos, si existen"
   ]
  },
  {
   "cell_type": "code",
   "execution_count": 36,
   "metadata": {},
   "outputs": [],
   "source": [
    "# Comprueba el resultado - asegúrate de que esté arreglado\n",
    "\n"
   ]
  },
  {
   "cell_type": "markdown",
   "metadata": {},
   "source": [
    "[Ahora veamos si hay duplicados en nuestros datos. Si los hay, tendrás que decidir qué harás con ellos y explicar por qué.]"
   ]
  },
  {
   "cell_type": "code",
   "execution_count": 37,
   "metadata": {},
   "outputs": [
    {
     "name": "stdout",
     "output_type": "stream",
     "text": [
      "733\n"
     ]
    }
   ],
   "source": [
    "# Comprobar los duplicados\n",
    "print(dataset.duplicated().sum())\n",
    "\n"
   ]
  },
  {
   "cell_type": "code",
   "execution_count": 38,
   "metadata": {},
   "outputs": [
    {
     "data": {
      "text/html": [
       "<div>\n",
       "<style scoped>\n",
       "    .dataframe tbody tr th:only-of-type {\n",
       "        vertical-align: middle;\n",
       "    }\n",
       "\n",
       "    .dataframe tbody tr th {\n",
       "        vertical-align: top;\n",
       "    }\n",
       "\n",
       "    .dataframe thead th {\n",
       "        text-align: right;\n",
       "    }\n",
       "</style>\n",
       "<table border=\"1\" class=\"dataframe\">\n",
       "  <thead>\n",
       "    <tr style=\"text-align: right;\">\n",
       "      <th></th>\n",
       "      <th>children</th>\n",
       "      <th>days_employed</th>\n",
       "      <th>dob_years</th>\n",
       "      <th>education</th>\n",
       "      <th>education_id</th>\n",
       "      <th>family_status</th>\n",
       "      <th>family_status_id</th>\n",
       "      <th>gender</th>\n",
       "      <th>income_type</th>\n",
       "      <th>debt</th>\n",
       "      <th>total_income</th>\n",
       "      <th>purpose</th>\n",
       "    </tr>\n",
       "  </thead>\n",
       "  <tbody>\n",
       "    <tr>\n",
       "      <th>322</th>\n",
       "      <td>0</td>\n",
       "      <td>NaN</td>\n",
       "      <td>42</td>\n",
       "      <td>Bachelor's Degree</td>\n",
       "      <td>1</td>\n",
       "      <td>civil partnership</td>\n",
       "      <td>1</td>\n",
       "      <td>F</td>\n",
       "      <td>retiree</td>\n",
       "      <td>1</td>\n",
       "      <td>NaN</td>\n",
       "      <td>to have a wedding</td>\n",
       "    </tr>\n",
       "    <tr>\n",
       "      <th>627</th>\n",
       "      <td>1</td>\n",
       "      <td>NaN</td>\n",
       "      <td>42</td>\n",
       "      <td>Bachelor's Degree</td>\n",
       "      <td>0</td>\n",
       "      <td>civil partnership</td>\n",
       "      <td>1</td>\n",
       "      <td>M</td>\n",
       "      <td>employee</td>\n",
       "      <td>0</td>\n",
       "      <td>NaN</td>\n",
       "      <td>to have a wedding</td>\n",
       "    </tr>\n",
       "    <tr>\n",
       "      <th>681</th>\n",
       "      <td>0</td>\n",
       "      <td>NaN</td>\n",
       "      <td>42</td>\n",
       "      <td>Bachelor's Degree</td>\n",
       "      <td>0</td>\n",
       "      <td>married</td>\n",
       "      <td>0</td>\n",
       "      <td>M</td>\n",
       "      <td>employee</td>\n",
       "      <td>0</td>\n",
       "      <td>NaN</td>\n",
       "      <td>buy residential real estate</td>\n",
       "    </tr>\n",
       "    <tr>\n",
       "      <th>1118</th>\n",
       "      <td>0</td>\n",
       "      <td>NaN</td>\n",
       "      <td>42</td>\n",
       "      <td>Bachelor's Degree</td>\n",
       "      <td>1</td>\n",
       "      <td>married</td>\n",
       "      <td>0</td>\n",
       "      <td>M</td>\n",
       "      <td>employee</td>\n",
       "      <td>0</td>\n",
       "      <td>NaN</td>\n",
       "      <td>purchase of a car</td>\n",
       "    </tr>\n",
       "    <tr>\n",
       "      <th>1237</th>\n",
       "      <td>0</td>\n",
       "      <td>NaN</td>\n",
       "      <td>42</td>\n",
       "      <td>Bachelor's Degree</td>\n",
       "      <td>1</td>\n",
       "      <td>married</td>\n",
       "      <td>0</td>\n",
       "      <td>F</td>\n",
       "      <td>retiree</td>\n",
       "      <td>0</td>\n",
       "      <td>NaN</td>\n",
       "      <td>real estate transactions</td>\n",
       "    </tr>\n",
       "    <tr>\n",
       "      <th>...</th>\n",
       "      <td>...</td>\n",
       "      <td>...</td>\n",
       "      <td>...</td>\n",
       "      <td>...</td>\n",
       "      <td>...</td>\n",
       "      <td>...</td>\n",
       "      <td>...</td>\n",
       "      <td>...</td>\n",
       "      <td>...</td>\n",
       "      <td>...</td>\n",
       "      <td>...</td>\n",
       "      <td>...</td>\n",
       "    </tr>\n",
       "    <tr>\n",
       "      <th>21415</th>\n",
       "      <td>0</td>\n",
       "      <td>NaN</td>\n",
       "      <td>42</td>\n",
       "      <td>Bachelor's Degree</td>\n",
       "      <td>1</td>\n",
       "      <td>married</td>\n",
       "      <td>0</td>\n",
       "      <td>F</td>\n",
       "      <td>retiree</td>\n",
       "      <td>0</td>\n",
       "      <td>NaN</td>\n",
       "      <td>housing transactions</td>\n",
       "    </tr>\n",
       "    <tr>\n",
       "      <th>21463</th>\n",
       "      <td>1</td>\n",
       "      <td>NaN</td>\n",
       "      <td>42</td>\n",
       "      <td>Bachelor's Degree</td>\n",
       "      <td>0</td>\n",
       "      <td>civil partnership</td>\n",
       "      <td>1</td>\n",
       "      <td>M</td>\n",
       "      <td>employee</td>\n",
       "      <td>0</td>\n",
       "      <td>NaN</td>\n",
       "      <td>having a wedding</td>\n",
       "    </tr>\n",
       "    <tr>\n",
       "      <th>21495</th>\n",
       "      <td>1</td>\n",
       "      <td>NaN</td>\n",
       "      <td>42</td>\n",
       "      <td>Bachelor's Degree</td>\n",
       "      <td>1</td>\n",
       "      <td>civil partnership</td>\n",
       "      <td>1</td>\n",
       "      <td>F</td>\n",
       "      <td>employee</td>\n",
       "      <td>0</td>\n",
       "      <td>NaN</td>\n",
       "      <td>wedding ceremony</td>\n",
       "    </tr>\n",
       "    <tr>\n",
       "      <th>21497</th>\n",
       "      <td>0</td>\n",
       "      <td>NaN</td>\n",
       "      <td>42</td>\n",
       "      <td>Bachelor's Degree</td>\n",
       "      <td>0</td>\n",
       "      <td>married</td>\n",
       "      <td>0</td>\n",
       "      <td>F</td>\n",
       "      <td>business</td>\n",
       "      <td>0</td>\n",
       "      <td>NaN</td>\n",
       "      <td>building a property</td>\n",
       "    </tr>\n",
       "    <tr>\n",
       "      <th>21502</th>\n",
       "      <td>1</td>\n",
       "      <td>NaN</td>\n",
       "      <td>42</td>\n",
       "      <td>Bachelor's Degree</td>\n",
       "      <td>1</td>\n",
       "      <td>married</td>\n",
       "      <td>0</td>\n",
       "      <td>F</td>\n",
       "      <td>employee</td>\n",
       "      <td>0</td>\n",
       "      <td>NaN</td>\n",
       "      <td>building a real estate</td>\n",
       "    </tr>\n",
       "  </tbody>\n",
       "</table>\n",
       "<p>733 rows × 12 columns</p>\n",
       "</div>"
      ],
      "text/plain": [
       "       children  days_employed  dob_years          education  education_id  \\\n",
       "322           0            NaN         42  Bachelor's Degree             1   \n",
       "627           1            NaN         42  Bachelor's Degree             0   \n",
       "681           0            NaN         42  Bachelor's Degree             0   \n",
       "1118          0            NaN         42  Bachelor's Degree             1   \n",
       "1237          0            NaN         42  Bachelor's Degree             1   \n",
       "...         ...            ...        ...                ...           ...   \n",
       "21415         0            NaN         42  Bachelor's Degree             1   \n",
       "21463         1            NaN         42  Bachelor's Degree             0   \n",
       "21495         1            NaN         42  Bachelor's Degree             1   \n",
       "21497         0            NaN         42  Bachelor's Degree             0   \n",
       "21502         1            NaN         42  Bachelor's Degree             1   \n",
       "\n",
       "           family_status  family_status_id gender income_type  debt  \\\n",
       "322    civil partnership                 1      F     retiree     1   \n",
       "627    civil partnership                 1      M    employee     0   \n",
       "681              married                 0      M    employee     0   \n",
       "1118             married                 0      M    employee     0   \n",
       "1237             married                 0      F     retiree     0   \n",
       "...                  ...               ...    ...         ...   ...   \n",
       "21415            married                 0      F     retiree     0   \n",
       "21463  civil partnership                 1      M    employee     0   \n",
       "21495  civil partnership                 1      F    employee     0   \n",
       "21497            married                 0      F    business     0   \n",
       "21502            married                 0      F    employee     0   \n",
       "\n",
       "       total_income                      purpose  \n",
       "322             NaN            to have a wedding  \n",
       "627             NaN            to have a wedding  \n",
       "681             NaN  buy residential real estate  \n",
       "1118            NaN            purchase of a car  \n",
       "1237            NaN     real estate transactions  \n",
       "...             ...                          ...  \n",
       "21415           NaN         housing transactions  \n",
       "21463           NaN             having a wedding  \n",
       "21495           NaN             wedding ceremony  \n",
       "21497           NaN          building a property  \n",
       "21502           NaN       building a real estate  \n",
       "\n",
       "[733 rows x 12 columns]"
      ]
     },
     "execution_count": 38,
     "metadata": {},
     "output_type": "execute_result"
    }
   ],
   "source": [
    "dataset[dataset.duplicated()]"
   ]
  },
  {
   "cell_type": "markdown",
   "metadata": {},
   "source": [
    "<div class=\"alert alert-block alert-success\">\n",
    "<b>Comentario del revisor</b> <a class=\"tocSkip\"></a> Seria mejor si lo muestras en DataFrame"
   ]
  },
  {
   "cell_type": "code",
   "execution_count": 39,
   "metadata": {},
   "outputs": [],
   "source": [
    "# Aborda los duplicados, si existen\n",
    "dataset = dataset.drop_duplicates().reset_index()"
   ]
  },
  {
   "cell_type": "code",
   "execution_count": 40,
   "metadata": {},
   "outputs": [
    {
     "name": "stdout",
     "output_type": "stream",
     "text": [
      "0\n",
      "Empty DataFrame\n",
      "Columns: [index, children, days_employed, dob_years, education, education_id, family_status, family_status_id, gender, income_type, debt, total_income, purpose]\n",
      "Index: []\n"
     ]
    }
   ],
   "source": [
    "# Última comprobación para ver si tenemos duplicados\n",
    "print(dataset.duplicated().sum())\n",
    "duplicated_dataset = dataset[dataset.duplicated()]\n",
    "print(duplicated_dataset)"
   ]
  },
  {
   "cell_type": "code",
   "execution_count": 41,
   "metadata": {},
   "outputs": [
    {
     "name": "stdout",
     "output_type": "stream",
     "text": [
      "<class 'pandas.core.frame.DataFrame'>\n",
      "RangeIndex: 20792 entries, 0 to 20791\n",
      "Data columns (total 13 columns):\n",
      " #   Column            Non-Null Count  Dtype  \n",
      "---  ------            --------------  -----  \n",
      " 0   index             20792 non-null  int64  \n",
      " 1   children          20792 non-null  int64  \n",
      " 2   days_employed     19351 non-null  float64\n",
      " 3   dob_years         20792 non-null  int64  \n",
      " 4   education         20792 non-null  object \n",
      " 5   education_id      20792 non-null  int64  \n",
      " 6   family_status     20792 non-null  object \n",
      " 7   family_status_id  20792 non-null  int64  \n",
      " 8   gender            20792 non-null  object \n",
      " 9   income_type       20792 non-null  object \n",
      " 10  debt              20792 non-null  int64  \n",
      " 11  total_income      19351 non-null  float64\n",
      " 12  purpose           20792 non-null  object \n",
      "dtypes: float64(2), int64(6), object(5)\n",
      "memory usage: 2.1+ MB\n"
     ]
    }
   ],
   "source": [
    "# Comprueba el tamaño del conjunto de datos que tienes ahora, después de haber ejecutado estas primeras manipulaciones\n",
    "dataset.info()"
   ]
  },
  {
   "cell_type": "markdown",
   "metadata": {},
   "source": [
    "[Describe tu nuevo conjunto de datos: di brevemente qué has cambiado y cuál es el porcentaje de cambios, si hubo alguno.]\n",
    "\n",
    "La cantidad de datos ha bajado de un total de 21525 a 21461 representando una reducción del 0.30% del total inicial.\n"
   ]
  },
  {
   "cell_type": "markdown",
   "metadata": {},
   "source": [
    "# Trabajar con valores ausentes"
   ]
  },
  {
   "cell_type": "markdown",
   "metadata": {},
   "source": [
    "[Para acelerar el trabajo con algunos datos, puede que necesites trabajar con diccionarios para algunos valores, en los que se proporcionan IDs. Explica por qué y con qué diccionarios vas a trabajar.]"
   ]
  },
  {
   "cell_type": "markdown",
   "metadata": {},
   "source": [
    "#Encuentra los diccionarios\n",
    "Se podría crear un diccionario que relacione education con su ID, así igual para family y su ID."
   ]
  },
  {
   "cell_type": "markdown",
   "metadata": {},
   "source": [
    "### Restaurar valores ausentes en `total_income`"
   ]
  },
  {
   "cell_type": "markdown",
   "metadata": {},
   "source": [
    "[Indica brevemente qué columnas tienen valores ausentes que debes abordar. Explica cómo las arreglarás.]\n",
    "\n",
    "\n",
    "Las columnas con valores ausentes son total_income y days_employed.\n",
    "\n",
    "[Empieza por abordar los valores ausentes del ingreso total. Crea una categoría de edad para los clientes. Crea una nueva columna con la categoría de edad. Esta estrategia puede ayudar a calcular valores para el ingreso total.]\n"
   ]
  },
  {
   "cell_type": "code",
   "execution_count": 42,
   "metadata": {},
   "outputs": [],
   "source": [
    "# Vamos a escribir una función que calcule la categoría de edad\n",
    "def age_group_example(age):\n",
    "    #age = row['dob_years']\n",
    "    \n",
    "    if age <= 20:\n",
    "        return '20 and under'\n",
    "    if age <= 30:\n",
    "        return '20-30'\n",
    "    if age <= 40:\n",
    "        return '30-40'\n",
    "    if age <= 50:\n",
    "        return '40-50'\n",
    "    if age <= 60:\n",
    "        return '50-60'\n",
    "    if age <= 70:\n",
    "        return '60-70'\n",
    "    if age <= 90:\n",
    "        return '70+'\n",
    "    \n",
    "\n",
    "\n",
    "    "
   ]
  },
  {
   "cell_type": "markdown",
   "metadata": {},
   "source": [
    "<div class=\"alert alert-block alert-success\">\n",
    "<b>Comentario del revisor</b> <a class=\"tocSkip\"></a> Tambien puedes usar aqui 'case'\n",
    "    "
   ]
  },
  {
   "cell_type": "code",
   "execution_count": 43,
   "metadata": {},
   "outputs": [
    {
     "name": "stdout",
     "output_type": "stream",
     "text": [
      "50-60\n"
     ]
    }
   ],
   "source": [
    "# Prueba si la función funciona bien\n",
    "print(age_group_example(60))"
   ]
  },
  {
   "cell_type": "code",
   "execution_count": 44,
   "metadata": {},
   "outputs": [],
   "source": [
    "# Crear una nueva columna basada en la función\n",
    "def age_group(row):\n",
    "    age = row['dob_years']\n",
    "    \n",
    "    if age <= 20:\n",
    "        return '20 and under'\n",
    "    if age <= 30:\n",
    "        return '20-30'\n",
    "    if age <= 40:\n",
    "        return '30-40'\n",
    "    if age <= 50:\n",
    "        return '40-50'\n",
    "    if age <= 60:\n",
    "        return '50-60'\n",
    "    if age <= 70:\n",
    "        return '60-70'\n",
    "    if age <= 90:\n",
    "        return '70+'\n",
    "    \n",
    "dataset['age_group'] = dataset.apply(age_group, axis=1)\n",
    "\n"
   ]
  },
  {
   "cell_type": "code",
   "execution_count": 45,
   "metadata": {},
   "outputs": [
    {
     "data": {
      "text/plain": [
       "40-50    20792\n",
       "Name: age_group, dtype: int64"
      ]
     },
     "execution_count": 45,
     "metadata": {},
     "output_type": "execute_result"
    }
   ],
   "source": [
    "# Comprobar cómo los valores en la nueva columna\n",
    "dataset['age_group'].value_counts()\n"
   ]
  },
  {
   "cell_type": "markdown",
   "metadata": {},
   "source": [
    "[Piensa en los factores de los que suelen depender los ingresos. Eventualmente, tendrás que averiguar si debes usar valores medios o medianos para reemplazar los valores ausentes. Para tomar esta decisión, probablemente querrás ver la distribución de los factores que, según tu análisis, pueden tener un impacto en los ingresos de uno.]"
   ]
  },
  {
   "cell_type": "markdown",
   "metadata": {},
   "source": [
    "[Crea una tabla que solo tenga datos sin valores ausentes. Estos datos se utilizarán para restaurar los valores ausentes.]"
   ]
  },
  {
   "cell_type": "code",
   "execution_count": 46,
   "metadata": {},
   "outputs": [],
   "source": [
    "# Crea una tabla sin valores ausentes y muestra algunas de sus filas para asegurarte de que se ve bien\n",
    "dataset = dataset.dropna()"
   ]
  },
  {
   "cell_type": "markdown",
   "metadata": {},
   "source": [
    "<div class=\"alert alert-block alert-success\">\n",
    "<b>Comentario del revisor</b> <a class=\"tocSkip\"></a> Si no necesitas todas las columnas entocnes puedes eliminar unas"
   ]
  },
  {
   "cell_type": "code",
   "execution_count": 47,
   "metadata": {},
   "outputs": [
    {
     "name": "stdout",
     "output_type": "stream",
     "text": [
      "<class 'pandas.core.frame.DataFrame'>\n",
      "Int64Index: 19351 entries, 0 to 20791\n",
      "Data columns (total 14 columns):\n",
      " #   Column            Non-Null Count  Dtype  \n",
      "---  ------            --------------  -----  \n",
      " 0   index             19351 non-null  int64  \n",
      " 1   children          19351 non-null  int64  \n",
      " 2   days_employed     19351 non-null  float64\n",
      " 3   dob_years         19351 non-null  int64  \n",
      " 4   education         19351 non-null  object \n",
      " 5   education_id      19351 non-null  int64  \n",
      " 6   family_status     19351 non-null  object \n",
      " 7   family_status_id  19351 non-null  int64  \n",
      " 8   gender            19351 non-null  object \n",
      " 9   income_type       19351 non-null  object \n",
      " 10  debt              19351 non-null  int64  \n",
      " 11  total_income      19351 non-null  float64\n",
      " 12  purpose           19351 non-null  object \n",
      " 13  age_group         19351 non-null  object \n",
      "dtypes: float64(2), int64(6), object(6)\n",
      "memory usage: 2.2+ MB\n"
     ]
    }
   ],
   "source": [
    "dataset.info()"
   ]
  },
  {
   "cell_type": "code",
   "execution_count": 48,
   "metadata": {},
   "outputs": [
    {
     "data": {
      "text/plain": [
       "False    19351\n",
       "Name: total_income, dtype: int64"
      ]
     },
     "execution_count": 48,
     "metadata": {},
     "output_type": "execute_result"
    }
   ],
   "source": [
    "dataset['total_income'].isna().value_counts()"
   ]
  },
  {
   "cell_type": "code",
   "execution_count": 49,
   "metadata": {},
   "outputs": [
    {
     "data": {
      "text/plain": [
       "age_group\n",
       "40-50    26787.568355\n",
       "Name: total_income, dtype: float64"
      ]
     },
     "execution_count": 49,
     "metadata": {},
     "output_type": "execute_result"
    }
   ],
   "source": [
    "# Examina los valores medios de los ingresos en función de los factores que identificaste\n",
    "dataset.groupby('age_group')['total_income'].mean().sort_values(ascending=False)\n"
   ]
  },
  {
   "cell_type": "code",
   "execution_count": 50,
   "metadata": {
    "scrolled": true
   },
   "outputs": [
    {
     "data": {
      "text/plain": [
       "age_group\n",
       "40-50    23202.87\n",
       "Name: total_income, dtype: float64"
      ]
     },
     "execution_count": 50,
     "metadata": {},
     "output_type": "execute_result"
    }
   ],
   "source": [
    "# Examina los valores medianos de los ingresos en función de los factores que identificaste\n",
    "dataset.groupby('age_group')['total_income'].median().sort_values(ascending=False)"
   ]
  },
  {
   "cell_type": "markdown",
   "metadata": {},
   "source": [
    "[Repite tales comparaciones para múltiples factores. Asegúrate de considerar diferentes aspectos y explica tu razonamiento.]\n",
    "\n"
   ]
  },
  {
   "cell_type": "code",
   "execution_count": 51,
   "metadata": {},
   "outputs": [
    {
     "name": "stdout",
     "output_type": "stream",
     "text": [
      "education\n",
      "Bachelor's Degree      26873.875798\n",
      "Some College           25470.138250\n",
      "Secondary Education    24590.943454\n",
      "Primary Education      17721.156643\n",
      "Graduate Degree        15800.399000\n",
      "Name: total_income, dtype: float64\n",
      "\n",
      "education\n",
      "Some College           25664.3970\n",
      "Bachelor's Degree      23242.8040\n",
      "Secondary Education    21616.9360\n",
      "Primary Education      16731.2685\n",
      "Graduate Degree        15800.3990\n",
      "Name: total_income, dtype: float64\n"
     ]
    }
   ],
   "source": [
    "print(dataset.groupby('education')['total_income'].mean().sort_values(ascending=False))\n",
    "print()\n",
    "print(dataset.groupby('education')['total_income'].median().sort_values(ascending=False))\n",
    "#print(dataset.groupby('education')['total_income'].max().sort_values(ascending=False))\n",
    "#print()\n",
    "#print(dataset.groupby('education')['total_income'].min().sort_values(ascending=False))"
   ]
  },
  {
   "cell_type": "code",
   "execution_count": 52,
   "metadata": {},
   "outputs": [
    {
     "name": "stdout",
     "output_type": "stream",
     "text": [
      "family_status\n",
      "divorced             27189.354550\n",
      "married              27041.784689\n",
      "unmarried            26934.069805\n",
      "civil partnership    26694.428597\n",
      "widow / widower      22984.208556\n",
      "Name: total_income, dtype: float64\n",
      "\n",
      "family_status\n",
      "divorced             23515.096\n",
      "married              23389.540\n",
      "civil partnership    23186.534\n",
      "unmarried            23149.028\n",
      "widow / widower      20514.190\n",
      "Name: total_income, dtype: float64\n"
     ]
    }
   ],
   "source": [
    "print(dataset.groupby('family_status')['total_income'].mean().sort_values(ascending=False))\n",
    "print()\n",
    "print(dataset.groupby('family_status')['total_income'].median().sort_values(ascending=False))\n",
    "#print(dataset.groupby('family_status')['total_income'].max().sort_values(ascending=False))\n",
    "#print()\n",
    "#print(dataset.groupby('family_status')['total_income'].min().sort_values(ascending=False))"
   ]
  },
  {
   "cell_type": "code",
   "execution_count": 53,
   "metadata": {},
   "outputs": [
    {
     "name": "stdout",
     "output_type": "stream",
     "text": [
      "\n",
      "income_type\n",
      "entrepreneur                   79866.1030\n",
      "business                       27577.2720\n",
      "civil servant                  24071.6695\n",
      "employee                       22815.1035\n",
      "unemployed                     21014.3605\n",
      "retiree                        18962.3180\n",
      "student                        15712.2600\n",
      "paternity / maternity leave     8612.6610\n",
      "Name: total_income, dtype: float64\n"
     ]
    }
   ],
   "source": [
    "#print(dataset.groupby('income_type')['total_income'].mean().sort_values(ascending=False))\n",
    "print()\n",
    "print(dataset.groupby('income_type')['total_income'].median().sort_values(ascending=False))\n",
    "#print(dataset.groupby('income_type')['total_income'].max().sort_values(ascending=False))\n",
    "#print()\n",
    "#print(dataset.groupby('income_type')['total_income'].min().sort_values(ascending=False))"
   ]
  },
  {
   "cell_type": "markdown",
   "metadata": {},
   "source": [
    "[Determina qué características definen mejor los ingresos y decide si utilizarás una mediana o una media. Explica por qué tomaste esta decisión.]\n",
    "\n",
    "La característica que mejor define los ingresos es income_type ya que tiene el mayor range de valores. En segundo lugar se encuentra education y en tercer lugar se encuentra age_group.\n",
    "\n",
    "En general las medias son más altas que las medianas, debido a que existen valores máximos más grandes que la mayoría de los datos. Utilizaré la mediana para eliminar el sesgo ocasionado por valores máximos o mínimos."
   ]
  },
  {
   "cell_type": "code",
   "execution_count": 54,
   "metadata": {},
   "outputs": [],
   "source": [
    "#  Escribe una función que usaremos para completar los valores ausentes\n",
    "def category_mean(row):\n",
    "    income_type = row['income_type']\n",
    "    #education = row['education']\n",
    "    for data in row:\n",
    "        if data == \"entrepreneur\":\n",
    "            mean = dataset[dataset[income_type]==data]['total_income'].median()\n",
    "            return mean\n",
    "        if data == \"business\":\n",
    "            mean = dataset[dataset[income_type]==data]['total_income'].median()\n",
    "            return mean\n",
    "        if data == \"civil servant\":\n",
    "            mean = dataset[dataset[income_type]==data]['total_income'].median()\n",
    "            return mean\n",
    "        if data == \"employee\":\n",
    "            mean = dataset[dataset[income_type]==data]['total_income'].median()\n",
    "            return mean\n",
    "        if data == \"retiree\":\n",
    "            mean = dataset[dataset[income_type]==data]['total_income'].median()\n",
    "            return mean\n",
    "        if data == \"student\":\n",
    "            mean = dataset[dataset[income_type]==data]['total_income'].median()\n",
    "            return mean\n",
    "        if data == \"paternity / maternity leave\":\n",
    "            mean = dataset[dataset[income_type]==data]['total_income'].median()\n",
    "            return mean\n",
    "\n",
    "    "
   ]
  },
  {
   "cell_type": "markdown",
   "metadata": {},
   "source": [
    "<div class=\"alert alert-block alert-success\">\n",
    "<b>Comentario del revisor</b> <a class=\"tocSkip\"></a> Aqui correcto!"
   ]
  },
  {
   "cell_type": "code",
   "execution_count": 55,
   "metadata": {},
   "outputs": [],
   "source": [
    "# Comprueba si funciona\n"
   ]
  },
  {
   "cell_type": "code",
   "execution_count": 56,
   "metadata": {},
   "outputs": [],
   "source": [
    "# Aplícalo a cada fila\n",
    "dataset['total_income']=dataset['total_income'].fillna(value=category_mean)"
   ]
  },
  {
   "cell_type": "code",
   "execution_count": 57,
   "metadata": {},
   "outputs": [
    {
     "data": {
      "text/plain": [
       "False    19351\n",
       "Name: total_income, dtype: int64"
      ]
     },
     "execution_count": 57,
     "metadata": {},
     "output_type": "execute_result"
    }
   ],
   "source": [
    "# Comprueba si tenemos algún error\n",
    "dataset['total_income'].isna().value_counts()"
   ]
  },
  {
   "cell_type": "markdown",
   "metadata": {},
   "source": [
    "[Si has encontrado errores al preparar los valores para los datos ausentes, probablemente signifique que hay algo especial en los datos de la categoría. Piénsalo un poco: tal vez hará falta arreglar algunas cosas manualmente, si hay suficientes datos para encontrar medianas/medias.]\n"
   ]
  },
  {
   "cell_type": "code",
   "execution_count": 58,
   "metadata": {},
   "outputs": [],
   "source": [
    "# Reemplazar los valores ausentes si hay algún error\n"
   ]
  },
  {
   "cell_type": "markdown",
   "metadata": {},
   "source": [
    "[Cuando creas que has terminado con `total_income`, comprueba que el número total de valores en esta columna coincida con el número de valores en otras columnas.]"
   ]
  },
  {
   "cell_type": "code",
   "execution_count": 59,
   "metadata": {},
   "outputs": [
    {
     "name": "stdout",
     "output_type": "stream",
     "text": [
      "<class 'pandas.core.frame.DataFrame'>\n",
      "Int64Index: 19351 entries, 0 to 20791\n",
      "Data columns (total 14 columns):\n",
      " #   Column            Non-Null Count  Dtype  \n",
      "---  ------            --------------  -----  \n",
      " 0   index             19351 non-null  int64  \n",
      " 1   children          19351 non-null  int64  \n",
      " 2   days_employed     19351 non-null  float64\n",
      " 3   dob_years         19351 non-null  int64  \n",
      " 4   education         19351 non-null  object \n",
      " 5   education_id      19351 non-null  int64  \n",
      " 6   family_status     19351 non-null  object \n",
      " 7   family_status_id  19351 non-null  int64  \n",
      " 8   gender            19351 non-null  object \n",
      " 9   income_type       19351 non-null  object \n",
      " 10  debt              19351 non-null  int64  \n",
      " 11  total_income      19351 non-null  float64\n",
      " 12  purpose           19351 non-null  object \n",
      " 13  age_group         19351 non-null  object \n",
      "dtypes: float64(2), int64(6), object(6)\n",
      "memory usage: 2.2+ MB\n"
     ]
    }
   ],
   "source": [
    "# Comprobar el número de entradas en las columnas\n",
    "dataset.info()\n"
   ]
  },
  {
   "cell_type": "markdown",
   "metadata": {},
   "source": [
    "###  Restaurar valores en `days_employed`"
   ]
  },
  {
   "cell_type": "markdown",
   "metadata": {},
   "source": [
    "[Piensa en los parámetros que pueden ayudarte a restaurar los valores ausentes en esta columna. Eventualmente, tendrás que averiguar si debes usar valores medios o medianos para reemplazar los valores ausentes. Probablemente llevarás a cabo una investigación similar a la que realizaste cuando restauraste los datos en la columna anterior.]"
   ]
  },
  {
   "cell_type": "code",
   "execution_count": 60,
   "metadata": {
    "pycharm": {
     "name": "#%%\n"
    },
    "scrolled": true
   },
   "outputs": [
    {
     "data": {
      "text/plain": [
       "age_group\n",
       "40-50    2194.220567\n",
       "Name: days_employed, dtype: float64"
      ]
     },
     "execution_count": 60,
     "metadata": {},
     "output_type": "execute_result"
    }
   ],
   "source": [
    "# Distribución de las medianas de `days_employed` en función de los parámetros identificados\n",
    "dataset.groupby('age_group')['days_employed'].median().sort_values(ascending=False)"
   ]
  },
  {
   "cell_type": "code",
   "execution_count": 61,
   "metadata": {},
   "outputs": [
    {
     "data": {
      "text/plain": [
       "education\n",
       "Graduate Degree        337584.815560\n",
       "Secondary Education      2520.675781\n",
       "Bachelor's Degree        2186.827418\n",
       "Some College             1458.540265\n",
       "Primary Education        1059.892431\n",
       "Name: days_employed, dtype: float64"
      ]
     },
     "execution_count": 61,
     "metadata": {},
     "output_type": "execute_result"
    }
   ],
   "source": [
    "# Distribución de las medias de `days_employed` en función de los parámetros identificados\n",
    "(dataset.groupby('education')['days_employed'].median().sort_values(ascending=False))"
   ]
  },
  {
   "cell_type": "code",
   "execution_count": 62,
   "metadata": {},
   "outputs": [
    {
     "data": {
      "text/plain": [
       "family_status\n",
       "widow / widower      337017.713307\n",
       "divorced               2401.954568\n",
       "married                2304.964439\n",
       "civil partnership      1944.345291\n",
       "unmarried              1462.009287\n",
       "Name: days_employed, dtype: float64"
      ]
     },
     "execution_count": 62,
     "metadata": {},
     "output_type": "execute_result"
    }
   ],
   "source": [
    "(dataset.groupby('family_status')['days_employed'].median().sort_values(ascending=False))"
   ]
  },
  {
   "cell_type": "code",
   "execution_count": 63,
   "metadata": {},
   "outputs": [
    {
     "data": {
      "text/plain": [
       "income_type\n",
       "unemployed                     366413.652744\n",
       "retiree                        365213.306266\n",
       "paternity / maternity leave      3296.759962\n",
       "civil servant                    2689.368353\n",
       "employee                         1574.202821\n",
       "business                         1547.382223\n",
       "student                           578.751554\n",
       "entrepreneur                      520.848083\n",
       "Name: days_employed, dtype: float64"
      ]
     },
     "execution_count": 63,
     "metadata": {},
     "output_type": "execute_result"
    }
   ],
   "source": [
    "(dataset.groupby('income_type')['days_employed'].median().sort_values(ascending=False))"
   ]
  },
  {
   "cell_type": "markdown",
   "metadata": {},
   "source": [
    "[Decide qué vas a utilizar: medias o medianas. Explica por qué.]"
   ]
  },
  {
   "cell_type": "code",
   "execution_count": 64,
   "metadata": {},
   "outputs": [],
   "source": [
    "# Escribamos una función que calcule medias o medianas (dependiendo de tu decisión) según el parámetro identificado\n",
    "def category_mean_2(row):\n",
    "    income_type = row['income_type']\n",
    "    #education = row['education']\n",
    "    for data in row:\n",
    "        if data == \"unemployed\":\n",
    "            mean = dataset[dataset[income_type]==data]['days_employed'].median()\n",
    "            return mean  \n",
    "        if data == \"entrepreneur\":\n",
    "            mean = dataset[dataset[income_type]==data]['days_employed'].median()\n",
    "            return mean\n",
    "        if data == \"business\":\n",
    "            mean = dataset[dataset[income_type]==data]['days_employed'].median()\n",
    "            return mean\n",
    "        if data == \"civil servant\":\n",
    "            mean = dataset[dataset[income_type]==data]['days_employed'].median()\n",
    "            return mean\n",
    "        if data == \"employee\":\n",
    "            mean = dataset[dataset[income_type]==data]['days_employed'].median()\n",
    "            return mean\n",
    "        if data == \"retiree\":\n",
    "            mean = dataset[dataset[income_type]==data]['days_employed'].median()\n",
    "            return mean\n",
    "        if data == \"student\":\n",
    "            mean = dataset[dataset[income_type]==data]['days_employed'].median()\n",
    "            return mean\n",
    "        if data == \"paternity / maternity leave\":\n",
    "            mean = dataset[dataset[income_type]==data]['days_employed'].median()\n",
    "            return mean"
   ]
  },
  {
   "cell_type": "code",
   "execution_count": 65,
   "metadata": {},
   "outputs": [],
   "source": [
    "# Comprueba que la función funciona\n",
    "\n"
   ]
  },
  {
   "cell_type": "code",
   "execution_count": 66,
   "metadata": {},
   "outputs": [],
   "source": [
    "# Aplicar la función al income_type\n",
    "dataset['days_employed']=dataset['days_employed'].fillna(value=category_mean_2)\n"
   ]
  },
  {
   "cell_type": "code",
   "execution_count": 67,
   "metadata": {},
   "outputs": [
    {
     "data": {
      "text/html": [
       "<div>\n",
       "<style scoped>\n",
       "    .dataframe tbody tr th:only-of-type {\n",
       "        vertical-align: middle;\n",
       "    }\n",
       "\n",
       "    .dataframe tbody tr th {\n",
       "        vertical-align: top;\n",
       "    }\n",
       "\n",
       "    .dataframe thead th {\n",
       "        text-align: right;\n",
       "    }\n",
       "</style>\n",
       "<table border=\"1\" class=\"dataframe\">\n",
       "  <thead>\n",
       "    <tr style=\"text-align: right;\">\n",
       "      <th></th>\n",
       "      <th>index</th>\n",
       "      <th>children</th>\n",
       "      <th>days_employed</th>\n",
       "      <th>dob_years</th>\n",
       "      <th>education</th>\n",
       "      <th>education_id</th>\n",
       "      <th>family_status</th>\n",
       "      <th>family_status_id</th>\n",
       "      <th>gender</th>\n",
       "      <th>income_type</th>\n",
       "      <th>debt</th>\n",
       "      <th>total_income</th>\n",
       "      <th>purpose</th>\n",
       "      <th>age_group</th>\n",
       "    </tr>\n",
       "  </thead>\n",
       "  <tbody>\n",
       "  </tbody>\n",
       "</table>\n",
       "</div>"
      ],
      "text/plain": [
       "Empty DataFrame\n",
       "Columns: [index, children, days_employed, dob_years, education, education_id, family_status, family_status_id, gender, income_type, debt, total_income, purpose, age_group]\n",
       "Index: []"
      ]
     },
     "execution_count": 67,
     "metadata": {},
     "output_type": "execute_result"
    }
   ],
   "source": [
    "# Comprueba si la función funcionó\n",
    "dataset[dataset['days_employed'].isna()]"
   ]
  },
  {
   "cell_type": "code",
   "execution_count": 68,
   "metadata": {},
   "outputs": [],
   "source": [
    "# Reemplazar valores ausentes\n",
    "\n"
   ]
  },
  {
   "cell_type": "markdown",
   "metadata": {},
   "source": [
    "[Cuando creas que has terminado con `total_income`, comprueba que el número total de valores en esta columna coincida con el número de valores en otras columnas.]"
   ]
  },
  {
   "cell_type": "code",
   "execution_count": 69,
   "metadata": {},
   "outputs": [
    {
     "data": {
      "text/plain": [
       "False    19351\n",
       "Name: days_employed, dtype: int64"
      ]
     },
     "execution_count": 69,
     "metadata": {},
     "output_type": "execute_result"
    }
   ],
   "source": [
    "# Comprueba las entradas en todas las columnas: asegúrate de que hayamos corregido todos los valores ausentes\n",
    "dataset['days_employed'].isna().value_counts()"
   ]
  },
  {
   "cell_type": "code",
   "execution_count": 70,
   "metadata": {
    "scrolled": true
   },
   "outputs": [
    {
     "name": "stdout",
     "output_type": "stream",
     "text": [
      "<class 'pandas.core.frame.DataFrame'>\n",
      "Int64Index: 19351 entries, 0 to 20791\n",
      "Data columns (total 14 columns):\n",
      " #   Column            Non-Null Count  Dtype  \n",
      "---  ------            --------------  -----  \n",
      " 0   index             19351 non-null  int64  \n",
      " 1   children          19351 non-null  int64  \n",
      " 2   days_employed     19351 non-null  float64\n",
      " 3   dob_years         19351 non-null  int64  \n",
      " 4   education         19351 non-null  object \n",
      " 5   education_id      19351 non-null  int64  \n",
      " 6   family_status     19351 non-null  object \n",
      " 7   family_status_id  19351 non-null  int64  \n",
      " 8   gender            19351 non-null  object \n",
      " 9   income_type       19351 non-null  object \n",
      " 10  debt              19351 non-null  int64  \n",
      " 11  total_income      19351 non-null  float64\n",
      " 12  purpose           19351 non-null  object \n",
      " 13  age_group         19351 non-null  object \n",
      "dtypes: float64(2), int64(6), object(6)\n",
      "memory usage: 2.2+ MB\n"
     ]
    }
   ],
   "source": [
    "dataset.info()"
   ]
  },
  {
   "cell_type": "code",
   "execution_count": 71,
   "metadata": {},
   "outputs": [],
   "source": [
    "dataset['total_income'] =pd.to_numeric(dataset['total_income'],errors='coerce')\n",
    "\n",
    "#dataset['total_income'].astype('float')"
   ]
  },
  {
   "cell_type": "code",
   "execution_count": 72,
   "metadata": {},
   "outputs": [],
   "source": [
    "dataset['days_employed'] =pd.to_numeric(dataset['days_employed'],errors='coerce')"
   ]
  },
  {
   "cell_type": "code",
   "execution_count": 73,
   "metadata": {
    "scrolled": true
   },
   "outputs": [
    {
     "name": "stdout",
     "output_type": "stream",
     "text": [
      "<class 'pandas.core.frame.DataFrame'>\n",
      "Int64Index: 19351 entries, 0 to 20791\n",
      "Data columns (total 14 columns):\n",
      " #   Column            Non-Null Count  Dtype  \n",
      "---  ------            --------------  -----  \n",
      " 0   index             19351 non-null  int64  \n",
      " 1   children          19351 non-null  int64  \n",
      " 2   days_employed     19351 non-null  float64\n",
      " 3   dob_years         19351 non-null  int64  \n",
      " 4   education         19351 non-null  object \n",
      " 5   education_id      19351 non-null  int64  \n",
      " 6   family_status     19351 non-null  object \n",
      " 7   family_status_id  19351 non-null  int64  \n",
      " 8   gender            19351 non-null  object \n",
      " 9   income_type       19351 non-null  object \n",
      " 10  debt              19351 non-null  int64  \n",
      " 11  total_income      19351 non-null  float64\n",
      " 12  purpose           19351 non-null  object \n",
      " 13  age_group         19351 non-null  object \n",
      "dtypes: float64(2), int64(6), object(6)\n",
      "memory usage: 2.2+ MB\n"
     ]
    }
   ],
   "source": [
    "dataset.info()"
   ]
  },
  {
   "cell_type": "markdown",
   "metadata": {},
   "source": [
    "<div class=\"alert alert-block alert-success\">\n",
    "<b>Comentario del revisor</b> <a class=\"tocSkip\"></a> Buen trabajo!"
   ]
  },
  {
   "cell_type": "markdown",
   "metadata": {},
   "source": [
    "## Clasificación de datos\n",
    "\n",
    "[Para poder responder a las preguntas y probar las diferentes hipótesis, querrás trabajar con datos clasificados. Mira las preguntas formuladas que debes responder. Piensa qué parte de los datos tiene que ser clasificada para responder a estas preguntas. A continuación, encontrarás una plantilla a través de la cual puedes trabajar para clasificar los datos. El primer procesamiento paso a paso cubre los datos de texto; el segundo aborda los datos numéricos que necesitan ser clasificados. Puedes usar ambas o ninguna de las instrucciones sugeridas, eso solo depende de ti.]\n",
    "\n",
    "[Independientemente de cómo decidas abordar la clasificación, asegúrate de proporcionar una explicación clara de la razón por la que tomaste tu decisión. Recuerda: este es tu trabajo y aquí tú tomas todas las decisiones.]\n"
   ]
  },
  {
   "cell_type": "code",
   "execution_count": 74,
   "metadata": {
    "scrolled": true
   },
   "outputs": [
    {
     "data": {
      "text/html": [
       "<div>\n",
       "<style scoped>\n",
       "    .dataframe tbody tr th:only-of-type {\n",
       "        vertical-align: middle;\n",
       "    }\n",
       "\n",
       "    .dataframe tbody tr th {\n",
       "        vertical-align: top;\n",
       "    }\n",
       "\n",
       "    .dataframe thead th {\n",
       "        text-align: right;\n",
       "    }\n",
       "</style>\n",
       "<table border=\"1\" class=\"dataframe\">\n",
       "  <thead>\n",
       "    <tr style=\"text-align: right;\">\n",
       "      <th></th>\n",
       "      <th>family_status</th>\n",
       "      <th>income_type</th>\n",
       "      <th>debt</th>\n",
       "      <th>total_income</th>\n",
       "      <th>age_group</th>\n",
       "    </tr>\n",
       "  </thead>\n",
       "  <tbody>\n",
       "    <tr>\n",
       "      <th>0</th>\n",
       "      <td>married</td>\n",
       "      <td>employee</td>\n",
       "      <td>0</td>\n",
       "      <td>40620.102</td>\n",
       "      <td>40-50</td>\n",
       "    </tr>\n",
       "    <tr>\n",
       "      <th>1</th>\n",
       "      <td>married</td>\n",
       "      <td>employee</td>\n",
       "      <td>0</td>\n",
       "      <td>17932.802</td>\n",
       "      <td>40-50</td>\n",
       "    </tr>\n",
       "    <tr>\n",
       "      <th>2</th>\n",
       "      <td>married</td>\n",
       "      <td>employee</td>\n",
       "      <td>0</td>\n",
       "      <td>23341.752</td>\n",
       "      <td>40-50</td>\n",
       "    </tr>\n",
       "    <tr>\n",
       "      <th>3</th>\n",
       "      <td>married</td>\n",
       "      <td>employee</td>\n",
       "      <td>0</td>\n",
       "      <td>42820.568</td>\n",
       "      <td>40-50</td>\n",
       "    </tr>\n",
       "    <tr>\n",
       "      <th>4</th>\n",
       "      <td>civil partnership</td>\n",
       "      <td>retiree</td>\n",
       "      <td>0</td>\n",
       "      <td>25378.572</td>\n",
       "      <td>40-50</td>\n",
       "    </tr>\n",
       "    <tr>\n",
       "      <th>5</th>\n",
       "      <td>civil partnership</td>\n",
       "      <td>business</td>\n",
       "      <td>0</td>\n",
       "      <td>40922.170</td>\n",
       "      <td>40-50</td>\n",
       "    </tr>\n",
       "    <tr>\n",
       "      <th>6</th>\n",
       "      <td>married</td>\n",
       "      <td>business</td>\n",
       "      <td>0</td>\n",
       "      <td>38484.156</td>\n",
       "      <td>40-50</td>\n",
       "    </tr>\n",
       "    <tr>\n",
       "      <th>7</th>\n",
       "      <td>married</td>\n",
       "      <td>employee</td>\n",
       "      <td>0</td>\n",
       "      <td>21731.829</td>\n",
       "      <td>40-50</td>\n",
       "    </tr>\n",
       "    <tr>\n",
       "      <th>8</th>\n",
       "      <td>civil partnership</td>\n",
       "      <td>employee</td>\n",
       "      <td>0</td>\n",
       "      <td>15337.093</td>\n",
       "      <td>40-50</td>\n",
       "    </tr>\n",
       "    <tr>\n",
       "      <th>9</th>\n",
       "      <td>married</td>\n",
       "      <td>employee</td>\n",
       "      <td>0</td>\n",
       "      <td>23108.150</td>\n",
       "      <td>40-50</td>\n",
       "    </tr>\n",
       "  </tbody>\n",
       "</table>\n",
       "</div>"
      ],
      "text/plain": [
       "       family_status income_type  debt  total_income age_group\n",
       "0            married    employee     0     40620.102     40-50\n",
       "1            married    employee     0     17932.802     40-50\n",
       "2            married    employee     0     23341.752     40-50\n",
       "3            married    employee     0     42820.568     40-50\n",
       "4  civil partnership     retiree     0     25378.572     40-50\n",
       "5  civil partnership    business     0     40922.170     40-50\n",
       "6            married    business     0     38484.156     40-50\n",
       "7            married    employee     0     21731.829     40-50\n",
       "8  civil partnership    employee     0     15337.093     40-50\n",
       "9            married    employee     0     23108.150     40-50"
      ]
     },
     "execution_count": 74,
     "metadata": {},
     "output_type": "execute_result"
    }
   ],
   "source": [
    "# Muestra los valores de los datos seleccionados para la clasificación\n",
    "dataset.loc[:,['family_status','income_type','debt','total_income','age_group']].head(10)"
   ]
  },
  {
   "cell_type": "markdown",
   "metadata": {},
   "source": [
    "[Vamos a comprobar los valores únicos]"
   ]
  },
  {
   "cell_type": "code",
   "execution_count": 75,
   "metadata": {
    "scrolled": true
   },
   "outputs": [],
   "source": [
    "# Comprobar los valores únicos\n",
    "\n",
    "#print(dataset['debt'].unique())\n",
    "#print(dataset['age_group'].unique())\n"
   ]
  },
  {
   "cell_type": "code",
   "execution_count": 76,
   "metadata": {},
   "outputs": [],
   "source": [
    "#print(dataset['total_income'].max())\n",
    "#print(dataset['total_income'].min())\n",
    "#print(dataset['total_income'].mean())"
   ]
  },
  {
   "cell_type": "markdown",
   "metadata": {},
   "source": [
    "[¿Qué grupos principales puedes identificar en función de los valores únicos?]\n",
    "\n",
    "Voy a utilizar el grupo debt y group_age y crearé una columna rango de ingreso (income_range) para clasificar el riesgo del tipo de cliente en 4 niveles (very high, high, medium, low).\n",
    "\n",
    "[Según estos temas, probablemente querremos clasificar nuestros datos.]\n"
   ]
  },
  {
   "cell_type": "code",
   "execution_count": 77,
   "metadata": {},
   "outputs": [],
   "source": [
    "# Escribamos una función para clasificar los datos en función de temas comunes\n",
    "def income_range(row):\n",
    "    total_income = row['total_income']\n",
    "    if 300000 < total_income <= 400000:\n",
    "        return '>300K'\n",
    "    if 200000 < total_income <= 300000:\n",
    "        return '200-300K'\n",
    "    if total_income <= 200000:\n",
    "        return '<200K'\n",
    "    if total_income <= 150000:\n",
    "        return '<150K'\n",
    "    \n",
    "\n",
    "\n"
   ]
  },
  {
   "cell_type": "code",
   "execution_count": 78,
   "metadata": {},
   "outputs": [],
   "source": [
    "# Crea una columna con las categorías y cuenta los valores en ellas\n",
    "dataset['income_range'] = dataset.apply(income_range, axis=1)\n",
    "\n"
   ]
  },
  {
   "cell_type": "markdown",
   "metadata": {},
   "source": [
    "[Si decides clasificar los datos numéricos, también tendrás que crear las categorías para ello.]"
   ]
  },
  {
   "cell_type": "code",
   "execution_count": 79,
   "metadata": {},
   "outputs": [],
   "source": [
    "# Revisar todos los datos numéricos en la columna seleccionada para la clasificación\n",
    "\n",
    "      \n",
    "      \n",
    "      "
   ]
  },
  {
   "cell_type": "code",
   "execution_count": 80,
   "metadata": {},
   "outputs": [
    {
     "data": {
      "text/plain": [
       "<200K       19340\n",
       "200-300K        9\n",
       ">300K           2\n",
       "Name: income_range, dtype: int64"
      ]
     },
     "execution_count": 80,
     "metadata": {},
     "output_type": "execute_result"
    }
   ],
   "source": [
    "# Obtener estadísticas resumidas para la columna\n",
    "\n",
    "dataset['income_range'].value_counts()\n"
   ]
  },
  {
   "cell_type": "markdown",
   "metadata": {},
   "source": [
    "[Decide qué rangos utilizarás para agrupar y explica por qué.]"
   ]
  },
  {
   "cell_type": "code",
   "execution_count": 81,
   "metadata": {},
   "outputs": [],
   "source": [
    "# Crear una función para clasificar en diferentes grupos numéricos basándose en rangos\n",
    "def age_range_(row):\n",
    "    age = row['dob_years']\n",
    "    if age >= 60:\n",
    "        return '>60'\n",
    "    if 40 <age < 60:\n",
    "        return '40-60'\n",
    "    if age < 200000:\n",
    "        return '<40'"
   ]
  },
  {
   "cell_type": "code",
   "execution_count": 82,
   "metadata": {},
   "outputs": [],
   "source": [
    "# Crear una columna con categorías\n",
    "dataset['age_range'] = dataset.apply(age_range_, axis=1)\n"
   ]
  },
  {
   "cell_type": "code",
   "execution_count": 83,
   "metadata": {
    "scrolled": false
   },
   "outputs": [
    {
     "name": "stdout",
     "output_type": "stream",
     "text": [
      "40-60    19351\n",
      "Name: age_range, dtype: int64\n"
     ]
    }
   ],
   "source": [
    "# Contar los valores de cada categoría para ver la distribución\n",
    "print(dataset['age_range'].value_counts())"
   ]
  },
  {
   "cell_type": "code",
   "execution_count": 84,
   "metadata": {
    "scrolled": true
   },
   "outputs": [
    {
     "name": "stdout",
     "output_type": "stream",
     "text": [
      "low risk       17780\n",
      "medium risk     1571\n",
      "Name: debt_risk, dtype: int64\n"
     ]
    }
   ],
   "source": [
    "def debt_risk_calc(row):\n",
    "    debt = row['debt']\n",
    "    age_range = row['age_range']\n",
    "    income_range = row['income_range']\n",
    "        \n",
    "    if debt == 1:\n",
    "        if age_range == '>60':\n",
    "            if income_range == '<200K':\n",
    "                return 'very high risk'\n",
    "            return 'high risk'\n",
    "        return 'medium risk'\n",
    "    return 'low risk'\n",
    "dataset['debt_risk'] = dataset.apply(debt_risk_calc, axis=1)\n",
    "print(dataset['debt_risk'].value_counts())"
   ]
  },
  {
   "cell_type": "markdown",
   "metadata": {},
   "source": [
    "<div class=\"alert alert-block alert-success\">\n",
    "<b>Comentario del revisor</b> <a class=\"tocSkip\"></a> Seria mejos si aqui anades los conclusiones"
   ]
  },
  {
   "cell_type": "markdown",
   "metadata": {},
   "source": [
    "## Comprobación de las hipótesis\n"
   ]
  },
  {
   "cell_type": "markdown",
   "metadata": {},
   "source": [
    "**¿Existe una correlación entre tener hijos y pagar a tiempo?**"
   ]
  },
  {
   "cell_type": "code",
   "execution_count": 85,
   "metadata": {},
   "outputs": [],
   "source": [
    "# Comprueba los datos sobre los hijos y los pagos puntuales\n",
    "debt_grouped_by_children = dataset.groupby('debt').agg({'children': ['value_counts']})\n",
    "\n",
    "\n",
    "\n"
   ]
  },
  {
   "cell_type": "code",
   "execution_count": 86,
   "metadata": {},
   "outputs": [
    {
     "name": "stdout",
     "output_type": "stream",
     "text": [
      "debt\n",
      "0    17780\n",
      "1     1571\n",
      "Name: children, dtype: int64\n",
      "debt  children\n",
      "0     0           11758\n",
      "      1            3978\n",
      "      2            1733\n",
      "      3             272\n",
      "      4              31\n",
      "      5               8\n",
      "1     0             952\n",
      "      1             409\n",
      "      2             185\n",
      "      3              22\n",
      "      4               3\n",
      "Name: value_counts, dtype: int64\n",
      "debt  children\n",
      "0     0           0.661305\n",
      "      1           0.223735\n",
      "      2           0.097469\n",
      "      3           0.015298\n",
      "      4           0.001744\n",
      "      5           0.000450\n",
      "1     0           0.605983\n",
      "      1           0.260344\n",
      "      2           0.117759\n",
      "      3           0.014004\n",
      "      4           0.001910\n",
      "dtype: float64\n"
     ]
    }
   ],
   "source": [
    "# Calcular la tasa de incumplimiento en función del número de hijos\n",
    "total_debt_by_children = dataset.groupby('debt')['children'].count()\n",
    "print(total_debt_by_children)\n",
    "print(debt_grouped_by_children['children']['value_counts'])\n",
    "print(debt_grouped_by_children['children']['value_counts']/total_debt_by_children)\n",
    "\n",
    "\n"
   ]
  },
  {
   "cell_type": "markdown",
   "metadata": {},
   "source": [
    "**Conclusión**\n",
    "\n",
    "[Escribe tus conclusiones en base a tus manipulaciones y observaciones.]\n",
    "\n",
    "La cantidad de deudores total es más alta para clientes que no tienen una deuda previa (debt=0). En ambos casos, la tasa de deudores es más grande para personas que no tienen hijos, y la tendencia es que mientras más hijos tienen la tasa de deudores es más baja.\n"
   ]
  },
  {
   "cell_type": "markdown",
   "metadata": {},
   "source": [
    "**¿Existe una correlación entre la situación familiar y el pago a tiempo?**"
   ]
  },
  {
   "cell_type": "code",
   "execution_count": 87,
   "metadata": {},
   "outputs": [
    {
     "name": "stdout",
     "output_type": "stream",
     "text": [
      "debt  family_status    \n",
      "0     married              10297\n",
      "      civil partnership     3396\n",
      "      unmarried             2271\n",
      "      divorced              1007\n",
      "      widow / widower        809\n",
      "1     married                846\n",
      "      civil partnership      339\n",
      "      unmarried              254\n",
      "      divorced                76\n",
      "      widow / widower         56\n",
      "Name: value_counts, dtype: int64\n",
      "debt  family_status    \n",
      "0     married              0.579134\n",
      "      civil partnership    0.191001\n",
      "      unmarried            0.127728\n",
      "      divorced             0.056637\n",
      "      widow / widower      0.045501\n",
      "1     married              0.538511\n",
      "      civil partnership    0.215786\n",
      "      unmarried            0.161680\n",
      "      divorced             0.048377\n",
      "      widow / widower      0.035646\n",
      "dtype: float64\n"
     ]
    }
   ],
   "source": [
    "# Comprueba los datos del estado familiar y los pagos a tiempo\n",
    "\n",
    "debt_grouped_by_family = dataset.groupby('debt').agg({'family_status': ['value_counts']})\n",
    "\n",
    "# Calcular la tasa de incumplimiento basada en el estado familiar\n",
    "total_debt_by_family = dataset.groupby('debt')['family_status'].count()\n",
    "\n",
    "print(debt_grouped_by_family['family_status']['value_counts'])\n",
    "print(debt_grouped_by_family['family_status']['value_counts']/total_debt_by_family)\n"
   ]
  },
  {
   "cell_type": "markdown",
   "metadata": {},
   "source": [
    "**Conclusión**\n",
    "\n",
    "[Escribe tus conclusiones en base a tus manipulaciones y observaciones.]\n",
    "\n",
    "El estado civil influye en la situación de pago de las familias, siendo los casados y los que tienen unión librequienes tienen la tasa de deuda más alta.\n"
   ]
  },
  {
   "cell_type": "markdown",
   "metadata": {},
   "source": [
    "**¿Existe una correlación entre el nivel de ingresos y el pago a tiempo?**"
   ]
  },
  {
   "cell_type": "code",
   "execution_count": 88,
   "metadata": {},
   "outputs": [
    {
     "name": "stdout",
     "output_type": "stream",
     "text": [
      "debt  income_range\n",
      "0     <200K           17770\n",
      "      200-300K            9\n",
      "      >300K               1\n",
      "1     <200K            1570\n",
      "      >300K               1\n",
      "Name: value_counts, dtype: int64\n",
      "debt  income_range\n",
      "0     <200K           0.999438\n",
      "      200-300K        0.000506\n",
      "      >300K           0.000056\n",
      "1     <200K           0.999363\n",
      "      >300K           0.000637\n",
      "dtype: float64\n"
     ]
    }
   ],
   "source": [
    "# Comprueba los datos del nivel de ingresos y los pagos a tiempo\n",
    "debt_grouped_by_income = dataset.groupby('debt').agg({'income_range': ['value_counts']})\n",
    "\n",
    "\n",
    "# Calcular la tasa de incumplimiento basada en el nivel de ingresos\n",
    "total_debt_by_income = dataset.groupby('debt')['income_range'].count()\n",
    "print(debt_grouped_by_income['income_range']['value_counts'])\n",
    "print(debt_grouped_by_income['income_range']['value_counts']/total_debt_by_income)\n"
   ]
  },
  {
   "cell_type": "markdown",
   "metadata": {},
   "source": [
    "**Conclusión**\n",
    "\n",
    "[Escribe tus conclusiones en base a tus manipulaciones y observaciones.]\n",
    "\n",
    "Para el nivel de ingresos podemos observar que las personas con menor nivel de ingresos representan la mayor cantidad de deudores."
   ]
  },
  {
   "cell_type": "markdown",
   "metadata": {},
   "source": [
    "**¿Cómo afecta el propósito del crédito a la tasa de incumplimiento?**"
   ]
  },
  {
   "cell_type": "code",
   "execution_count": 89,
   "metadata": {},
   "outputs": [
    {
     "name": "stdout",
     "output_type": "stream",
     "text": [
      "                                     purpose\n",
      "                                value_counts\n",
      "debt purpose                                \n",
      "0    wedding ceremony                    665\n",
      "     to have a wedding                   641\n",
      "     having a wedding                    635\n",
      "     real estate transactions            563\n",
      "     buy commercial real estate          554\n",
      "...                                      ...\n",
      "1    to become educated                   34\n",
      "     purchase of my own house             32\n",
      "     education                            31\n",
      "     getting an education                 31\n",
      "     housing renovation                   31\n",
      "\n",
      "[76 rows x 1 columns]\n",
      "debt  purpose                   \n",
      "0     wedding ceremony              0.037402\n",
      "      to have a wedding             0.036052\n",
      "      having a wedding              0.035714\n",
      "      real estate transactions      0.031665\n",
      "      buy commercial real estate    0.031159\n",
      "                                      ...   \n",
      "1     to become educated            0.021642\n",
      "      purchase of my own house      0.020369\n",
      "      education                     0.019733\n",
      "      getting an education          0.019733\n",
      "      housing renovation            0.019733\n",
      "Length: 76, dtype: float64\n"
     ]
    }
   ],
   "source": [
    "# Consulta los porcentajes de tasa de incumplimiento para cada propósito del crédito y analízalos\n",
    "debt_grouped_by_purpose = dataset.groupby('debt').agg({'purpose': ['value_counts']})\n",
    "total_debt_by_purpose = dataset.groupby('debt')['purpose'].count()\n",
    "print(debt_grouped_by_purpose)\n",
    "print(debt_grouped_by_purpose['purpose']['value_counts']/total_debt_by_purpose)\n"
   ]
  },
  {
   "cell_type": "markdown",
   "metadata": {},
   "source": [
    "**Conclusión**\n",
    "\n",
    "[Escribe tus conclusiones en base a tus manipulaciones y observaciones.]\n",
    "\n",
    "\n",
    "- Aquellos que no tienen una deuda previa tienen la tasa de deudores más alta en aquellos cuyo propósito es tener una boda o comprar un bien inmeble.\n",
    "\n",
    "- Aquellos que  tienen una deuda previa tienen la tasa de deudores está uniformemente distribuida entre los diferentes propósitos.\n"
   ]
  },
  {
   "cell_type": "markdown",
   "metadata": {},
   "source": [
    "# Conclusión general \n",
    "\n",
    "[Enumera tus conclusiones en esta última sección. Asegúrate de incluir todas las conclusiones importantes que hiciste y que te llevaron a la forma en que procesaste y analizaste los datos. Habla de los valores ausentes, los duplicados y las posibles razones y soluciones para los artefactos problemáticos que tuviste que abordar.]\n",
    "\n",
    "[Enumera tus conclusiones con respecto a las preguntas planteadas aquí también.]\n"
   ]
  },
  {
   "cell_type": "code",
   "execution_count": 90,
   "metadata": {},
   "outputs": [
    {
     "name": "stdout",
     "output_type": "stream",
     "text": [
      "<class 'pandas.core.frame.DataFrame'>\n",
      "Int64Index: 19351 entries, 0 to 20791\n",
      "Data columns (total 17 columns):\n",
      " #   Column            Non-Null Count  Dtype  \n",
      "---  ------            --------------  -----  \n",
      " 0   index             19351 non-null  int64  \n",
      " 1   children          19351 non-null  int64  \n",
      " 2   days_employed     19351 non-null  float64\n",
      " 3   dob_years         19351 non-null  int64  \n",
      " 4   education         19351 non-null  object \n",
      " 5   education_id      19351 non-null  int64  \n",
      " 6   family_status     19351 non-null  object \n",
      " 7   family_status_id  19351 non-null  int64  \n",
      " 8   gender            19351 non-null  object \n",
      " 9   income_type       19351 non-null  object \n",
      " 10  debt              19351 non-null  int64  \n",
      " 11  total_income      19351 non-null  float64\n",
      " 12  purpose           19351 non-null  object \n",
      " 13  age_group         19351 non-null  object \n",
      " 14  income_range      19351 non-null  object \n",
      " 15  age_range         19351 non-null  object \n",
      " 16  debt_risk         19351 non-null  object \n",
      "dtypes: float64(2), int64(6), object(9)\n",
      "memory usage: 3.2+ MB\n"
     ]
    }
   ],
   "source": [
    "dataset.info()"
   ]
  },
  {
   "cell_type": "markdown",
   "metadata": {},
   "source": [
    "La cantidad de deudores total es más alta para clientes que no tienen una deuda previa (debt=0). \n",
    "\n",
    "La mayoría de los clientes presentados en la base de datos son de bajo riesgo debido a que son menores de 60 años y no tienen una deuda previa.\n",
    "\n",
    "La tasa de deudores es más grande para personas que no tienen hijos, y la tendencia es que mientras más hijos tienen la tasa de deudores es más baja.\n",
    "\n",
    "El estado civil influye en la situación de pago de las familias, siendo los casados y los que tienen unión librequienes tienen la tasa de deuda más alta.\n"
   ]
  },
  {
   "cell_type": "markdown",
   "metadata": {},
   "source": [
    "<div class=\"alert alert-block alert-success\">\n",
    "<b>Comentario del revisor</b> <a class=\"tocSkip\"></a> Buen trabajo! El proyecto esta aceptado!"
   ]
  }
 ],
 "metadata": {
  "ExecuteTimeLog": [
   {
    "duration": 2741,
    "start_time": "2021-10-21T01:08:49.480Z"
   },
   {
    "duration": 52,
    "start_time": "2021-10-21T01:08:53.315Z"
   },
   {
    "duration": 49,
    "start_time": "2021-10-21T01:08:57.432Z"
   },
   {
    "duration": 70,
    "start_time": "2021-10-21T01:09:07.706Z"
   }
  ],
  "kernelspec": {
   "display_name": "Python 3 (ipykernel)",
   "language": "python",
   "name": "python3"
  },
  "language_info": {
   "codemirror_mode": {
    "name": "ipython",
    "version": 3
   },
   "file_extension": ".py",
   "mimetype": "text/x-python",
   "name": "python",
   "nbconvert_exporter": "python",
   "pygments_lexer": "ipython3",
   "version": "3.9.5"
  },
  "toc": {
   "base_numbering": 1,
   "nav_menu": {},
   "number_sections": true,
   "sideBar": true,
   "skip_h1_title": true,
   "title_cell": "Table of Contents",
   "title_sidebar": "Contents",
   "toc_cell": false,
   "toc_position": {},
   "toc_section_display": true,
   "toc_window_display": false
  }
 },
 "nbformat": 4,
 "nbformat_minor": 2
}
